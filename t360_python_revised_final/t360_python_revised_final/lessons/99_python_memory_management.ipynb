{
 "cells": [
  {
   "cell_type": "markdown",
   "metadata": {},
   "source": [
    "## Python Memory Management"
   ]
  },
  {
   "cell_type": "markdown",
   "metadata": {},
   "source": [
    "What is a __varialbe__?\n",
    "\n",
    "A __variable__ is a container that can store values.\n",
    "\n",
    "<html>\n",
    "<img src=\"img/c-style-vars.png\",width=600>\n",
    "</html>\n",
    "\n",
    "In case of C-Style variables you can declare the variable and assign it's initial value at the same time.\n",
    "\n",
    "<html>\n",
    "<img src=\"img/c-style-vars2.png\",width=600>\n",
    "</html>\n",
    "\n",
    "When we assign a new value to the variable the data gets overwritten.\n",
    "\n",
    "__Python__ has __names__ not variables!\n",
    "\n",
    "<html>\n",
    "<img src=\"img/py-style-mem.png\",width=300>\n",
    "</html>\n",
    "\n",
    "A __name__ is just a __lable__ for an object. Each object can have lots of names. Those names reference the object.\n",
    "\n",
    "Python has two different types of Objects.\n",
    "\n",
    "A) Simple objects that store only their own value\n",
    "* numbers\n",
    "* strings\n",
    "\n",
    "B) Container objects\n",
    "* dict\n",
    "* list\n",
    "* user defined classes"
   ]
  },
  {
   "cell_type": "markdown",
   "metadata": {},
   "source": [
    "### How does reference counting work"
   ]
  },
  {
   "cell_type": "markdown",
   "metadata": {},
   "source": [
    "What is a __reference__?\n",
    "A __name__ or a __container object__ pointing to another object.\n",
    "\n",
    "What is a __reference count__?\n",
    "Its the number of references that you have\n",
    "\n",
    "How do you increase reference count?\n",
    "\n",
    "<html>\n",
    "<img src=\"img/py-ref-count-1.png\",width=600>\n",
    "</html>\n",
    "\n",
    "<html>\n",
    "<img src=\"img/py-ref-count-2.png\",width=600>\n",
    "</html>\n",
    "\n",
    "<html>\n",
    "<img src=\"img/py-ref-count-3.png\",width=600>\n",
    "</html>\n"
   ]
  },
  {
   "cell_type": "code",
   "execution_count": null,
   "metadata": {},
   "outputs": [],
   "source": []
  },
  {
   "cell_type": "markdown",
   "metadata": {},
   "source": [
    "How do you decrease reference count?\n",
    "\n",
    "<html>\n",
    "<img src=\"img/py-ref-count-4.png\",width=600>\n",
    "</html>\n",
    "\n",
    "The __del__ statement does not remove objects!\n",
    "It:\n",
    "* removes that name as a reference to that object\n",
    "* reduces the reference count by 1\n",
    "\n",
    "<html>\n",
    "<img src=\"img/py-dec-ref-count.png\",width=600>\n",
    "</html>\n",
    "\n",
    "<html>\n",
    "<img src=\"img/py-dec-ref-count2.png\",width=600>\n",
    "</html>\n",
    "\n",
    "<html>\n",
    "<img src=\"img/py-dec-ref-count3.png\",width=600>\n",
    "</html>\n"
   ]
  },
  {
   "cell_type": "markdown",
   "metadata": {},
   "source": [
    "### Internally every object holds 3 things:\n",
    "* type\n",
    "* valu\n",
    "* reference count\n",
    "\n",
    "<html>\n",
    "<img src=\"img/py-ref-count-5.png\",width=600>\n",
    "</html>\n",
    "\n"
   ]
  },
  {
   "cell_type": "markdown",
   "metadata": {},
   "source": [
    "For more information: https://www.youtube.com/watch?v=F6u5rhUQ6dU"
   ]
  },
  {
   "cell_type": "code",
   "execution_count": null,
   "metadata": {},
   "outputs": [],
   "source": []
  }
 ],
 "metadata": {
  "kernelspec": {
   "display_name": "Python 3",
   "language": "python",
   "name": "python3"
  },
  "language_info": {
   "codemirror_mode": {
    "name": "ipython",
    "version": 3
   },
   "file_extension": ".py",
   "mimetype": "text/x-python",
   "name": "python",
   "nbconvert_exporter": "python",
   "pygments_lexer": "ipython3",
   "version": "3.7.2"
  }
 },
 "nbformat": 4,
 "nbformat_minor": 2
}
