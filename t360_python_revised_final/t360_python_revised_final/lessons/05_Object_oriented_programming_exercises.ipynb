{
 "cells": [
  {
   "cell_type": "markdown",
   "metadata": {},
   "source": [
    "# Object-Oriented Programming Exercises\n",
    "\n",
    "We are going to implement two easy games with simple console interface to dive into OOP and practice OO concepts. Based on the progress of the group and the available time, the mentor decides which parts are solved in a hands-on manner and which parts are given to the participants as exercises.\n",
    "\n",
    "Solve these exercises in PyCharm!"
   ]
  },
  {
   "cell_type": "markdown",
   "metadata": {},
   "source": [
    "## Tic-Tac Toe\n",
    "\n",
    "If you do not know the rules of this game, you can check them [here](https://www.exploratorium.edu/brain_explorer/tictactoe.html)."
   ]
  },
  {
   "cell_type": "markdown",
   "metadata": {},
   "source": [
    "### Board class\n",
    "\n",
    "1. Create a Board class.\n",
    "1. Make the Board class store the board of the game.\n",
    "1. Initialize the board to be empty in the constructor.\n",
    "1. Make the Board class store, which player is acting.\n",
    "1. Add a method to place a mark of the active player to the given coordinates. (Raise exception if already occupied or coordinates are invalid.)\n",
    "1. Add a method so that the current state of the game (ongoing, tie, X won, O won) can be determined."
   ]
  },
  {
   "cell_type": "markdown",
   "metadata": {},
   "source": [
    "### Game class\n",
    "\n",
    "1. Initialize the game with a new board.\n",
    "1. Provide a start method to start the game.\n",
    "1. Print out, who is acting.\n",
    "1. Read coordinates and place a mark. If mark is invalid, the same player is acting again until valid coordinates are provided.\n",
    "1. When acted, the other player is acting.\n",
    "1. Game finishes when someone wins or the board is complete with a tie.\n",
    "1. The result is displayed."
   ]
  },
  {
   "cell_type": "markdown",
   "metadata": {},
   "source": [
    "### Main program\n",
    "\n",
    "Write code that instantiates the Game class and starts the game. "
   ]
  },
  {
   "cell_type": "markdown",
   "metadata": {},
   "source": [
    "## BlackJack\n",
    "\n",
    "BlackJack has several variants, we are going to implement a simplified version without split and betting. You can read one variant [here](https://wizardofodds.com/games/blackjack/basics/) if you are totally unfamiliar with the game."
   ]
  },
  {
   "cell_type": "markdown",
   "metadata": {},
   "source": [
    "### Card class\n",
    "\n",
    "First, we need to represent the cards somehow, so we create a Card class.\n",
    "\n",
    "1. The constructor takes a suit and a shape. You can make the suit simply a string and copy the Unicode characters of the suits from this [site](https://en.wikipedia.org/wiki/Playing_cards_in_Unicode). Shapes can be 2, 3, 4, 5, 6, 7, 8, 9, 'T', 'J', 'Q', 'K', 'A'.\n",
    "1. Implement \\__str__ so that cards can be printed out easily.\n",
    "1. Write some code to check that creating and printing out cards actually works."
   ]
  },
  {
   "cell_type": "markdown",
   "metadata": {},
   "source": [
    "### Deck class\n",
    "\n",
    "Once we are able to represent individual cards, we need to be able to represent a deck of cards and be able to draw cards from it.\n",
    "\n",
    "1. Create a Deck class and initialize a list attribute in a constructor. Fill this list with all of the possible cards, using each and every combination of suits and shapes.\n",
    "1. If the deck is always the same, the game will not be very interesting. Shuffle the deck randomly. (Check the random module, maybe you find a convenient solution.)\n",
    "1. Add a draw method that removes and returns the last card of the deck.\n",
    "1. Test your code by creating a deck and drawing some cards. Run this code several times to make sure it works randomly."
   ]
  },
  {
   "cell_type": "markdown",
   "metadata": {},
   "source": [
    "### Hand class\n",
    "\n",
    "Now you have to represent the hands of the players somehow.\n",
    "\n",
    "1. Create a Hand class and initialize an attribute as an empty list since hands are empty in the beginning.\n",
    "1. Add a take method that takes a card and appends it to the list.\n",
    "1. Implement \\__str__ so that you can conveniently print out the whole hand.\n",
    "1. Test your code by creating the player's and the dealer's hand and giving them 2-2 cards. Now print out the hands. This is the initial deal where the actual game begins."
   ]
  },
  {
   "cell_type": "markdown",
   "metadata": {},
   "source": [
    "### Player's turn\n",
    "\n",
    "Now it is the player's turn to play. The player can hit or stand until his score is not above 21, otherwise he looses. To implement this, you need to implement counting the score of hands.\n",
    "\n",
    "1. Add a score method to the class Hand. It returns the value of the hand. Note that 'A' may worth 1 or 11, you must handle that correctly.\n",
    "1. When ready, using this method implement the player's turn. If 'hit' is entered by the player, the player receives a new card. If 'stand' is entered or the score goes above 21, the player's turn is over."
   ]
  },
  {
   "cell_type": "markdown",
   "metadata": {},
   "source": [
    "### Dealer's turn\n",
    "\n",
    "Now it is the dealer's turn. Casinos may specify exact and strict rules, such as the dealer must stand when his score is at least 17, even though the player is winning. We are going to implement a tough dealer that makes the maximum effor to win. It means that the dealer will hit until he either wins or goes beyond 21. For this, we now need to be able to compare two hands, checking which one wins. To make your code intuitive and easy to read, you can implement \\__lt__ or \\__gt__ for this comparison.\n",
    "\n",
    "The actual logic of comparing two hands quite complex so we are going to refine our algorithm in several steps:\n",
    "\n",
    "1. If one of the players has gone beyond 21 and the other has not, the second player's hand is better and vice versa.\n",
    "1. If both are below 21, the higher score wins.\n",
    "1. If they have equal score, the player that achieved the score with fewer cards wins.\n",
    "1. If they have equal score and equal number of cards, the highest value card will determine the winner. E.g. K23 will win over Q23 because K is worthier than Q. If the highest card is the same, the second highest is checked and so on... (Hint: assign a number representing the order to the cards and sort the list of orders of the two hands. You can check for the first mismatch in these lists and determine the winner.\n",
    "1. When done, implement the dealer's turn.\n",
    "1. Print the final result."
   ]
  },
  {
   "cell_type": "markdown",
   "metadata": {},
   "source": [
    "### Edge cases\n",
    "\n",
    "Some special cases have not been considered, you can now extend your solution to support these:\n",
    "\n",
    "1. AA is counted exceptionally, it is worth 21, not 12, and it is the best possible hand.\n",
    "1. If the dealer is dealt 21 in the beginning but the player is not, the dealer immediately wins since it is impossible to make a better hand. Even if the player makes a 21, it will have more cards than two.\n",
    "1. The same applies to the dealer. If the player is dealt 21 but the dealer is not, the dealer immediately loses."
   ]
  }
 ],
 "metadata": {
  "kernelspec": {
   "display_name": "Python 3",
   "language": "python",
   "name": "python3"
  },
  "language_info": {
   "codemirror_mode": {
    "name": "ipython",
    "version": 3
   },
   "file_extension": ".py",
   "mimetype": "text/x-python",
   "name": "python",
   "nbconvert_exporter": "python",
   "pygments_lexer": "ipython3",
   "version": "3.7.3"
  }
 },
 "nbformat": 4,
 "nbformat_minor": 2
}
