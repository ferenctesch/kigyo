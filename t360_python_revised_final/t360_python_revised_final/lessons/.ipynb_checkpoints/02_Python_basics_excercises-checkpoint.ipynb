{
 "cells": [
  {
   "cell_type": "markdown",
   "metadata": {},
   "source": [
    "# Excercises for Python basics\n",
    "\n",
    "[Syntax basics: literals, variables, keywords, blocks, import statements](#basics)\n",
    "\n",
    "[Control structures (if-else, while, for)](#control)\n",
    "\n",
    "[Basic I/O handling (read/write stdin, stdout, stderr, and files)](#io)\n",
    "\n",
    "[Error handling, exceptions](#exceptions)"
   ]
  },
  {
   "cell_type": "markdown",
   "metadata": {},
   "source": [
    "## Syntax basics \n",
    "<a id='basics'></a>"
   ]
  },
  {
   "cell_type": "markdown",
   "metadata": {},
   "source": [
    "Below we defined variables of different types. See how they are displayed if you __print__ them, and try to convert them all to the same type, storing the results in new variables. Check their types, if necessary, using the __type__ function."
   ]
  },
  {
   "cell_type": "code",
   "execution_count": 1,
   "metadata": {},
   "outputs": [],
   "source": [
    "a = 3\n",
    "b = 4.2\n",
    "c = \"5\"\n",
    "d = \"5.0\""
   ]
  },
  {
   "cell_type": "code",
   "execution_count": 2,
   "metadata": {},
   "outputs": [
    {
     "name": "stdout",
     "output_type": "stream",
     "text": [
      "3\n"
     ]
    }
   ],
   "source": [
    "print(a)"
   ]
  },
  {
   "cell_type": "markdown",
   "metadata": {},
   "source": [
    "Find out what happens if you convert strings, ints, floats, lists to boolean. Try to find as many ways as possible to create False values!"
   ]
  },
  {
   "cell_type": "code",
   "execution_count": null,
   "metadata": {},
   "outputs": [],
   "source": []
  },
  {
   "cell_type": "markdown",
   "metadata": {},
   "source": [
    "The symbols < and > can be used to compare values of ints and floats. How do you think they work for other types? Try it!"
   ]
  },
  {
   "cell_type": "code",
   "execution_count": null,
   "metadata": {},
   "outputs": [],
   "source": []
  },
  {
   "cell_type": "markdown",
   "metadata": {},
   "source": [
    "The + and * operations perform addition and multiplication of ints and floats. What do you think they do with other types? Try to find combinations that work!"
   ]
  },
  {
   "cell_type": "code",
   "execution_count": null,
   "metadata": {},
   "outputs": [],
   "source": []
  },
  {
   "cell_type": "markdown",
   "metadata": {},
   "source": [
    "## Control structures (if-else, while, for)\n",
    "<a id='control'></a>"
   ]
  },
  {
   "cell_type": "markdown",
   "metadata": {},
   "source": [
    "Use __if__ to write code that prints whether the value of x is negative, positive, or zero."
   ]
  },
  {
   "cell_type": "code",
   "execution_count": 4,
   "metadata": {},
   "outputs": [],
   "source": [
    "x = -23"
   ]
  },
  {
   "cell_type": "code",
   "execution_count": 5,
   "metadata": {},
   "outputs": [
    {
     "name": "stdout",
     "output_type": "stream",
     "text": [
      "-23 is negative\n"
     ]
    }
   ],
   "source": [
    "if x < 0:\n",
    "    print(f'{x} is negative')\n",
    "elif x == "
   ]
  },
  {
   "cell_type": "markdown",
   "metadata": {},
   "source": [
    "Use a __while__ loop to print powers of 2 below 10000."
   ]
  },
  {
   "cell_type": "code",
   "execution_count": null,
   "metadata": {},
   "outputs": [],
   "source": []
  },
  {
   "cell_type": "markdown",
   "metadata": {},
   "source": [
    "Use a __for__ loop to go through the list defined below and print only the strings!"
   ]
  },
  {
   "cell_type": "code",
   "execution_count": null,
   "metadata": {},
   "outputs": [],
   "source": [
    "test_list = [3.0, \"Hey,\", True, int, 'look,', 19, 42, False, 'I\\'m', ['a', 3], {}, str, 'coding!']"
   ]
  },
  {
   "cell_type": "code",
   "execution_count": null,
   "metadata": {},
   "outputs": [],
   "source": []
  },
  {
   "cell_type": "markdown",
   "metadata": {},
   "source": [
    "Use a __for__ loop and the __range__ function to go through the first 100 positive integers and print those whose last digit is 7. There are (at least) two very different solutions that you can think of!"
   ]
  },
  {
   "cell_type": "code",
   "execution_count": null,
   "metadata": {},
   "outputs": [],
   "source": []
  },
  {
   "cell_type": "markdown",
   "metadata": {},
   "source": [
    "Use a while loop to implement conversion of integers to base 2! If you are unfamiliar with the algorithm of the conversion, you can read it [here](https://blog.angularindepth.com/the-simple-math-behind-decimal-binary-conversion-algorithms-d30c967c9724).\n",
    "\n",
    "(Hint: you can use _l.reverse()_ to reverse the list l in-place.)"
   ]
  },
  {
   "cell_type": "code",
   "execution_count": null,
   "metadata": {},
   "outputs": [],
   "source": []
  },
  {
   "cell_type": "markdown",
   "metadata": {},
   "source": [
    "## Basic I/O handling (read/write stdin, stdout, stderr, and files)\n",
    "<a id='io'></a>"
   ]
  },
  {
   "cell_type": "markdown",
   "metadata": {},
   "source": [
    "Open the file 'data/animals.txt' and store its contents in a single string. Use the __len__ function to count the number of characters in the string. Then write the string to stdout using the sys module."
   ]
  },
  {
   "cell_type": "code",
   "execution_count": null,
   "metadata": {},
   "outputs": [],
   "source": []
  },
  {
   "cell_type": "markdown",
   "metadata": {},
   "source": [
    "Open the file 'data/animals.txt' again and use a while loop to read its contents line by line. For each line, print its index (0 for the first line, 1 for the second, etc.) along with the contents of the line."
   ]
  },
  {
   "cell_type": "code",
   "execution_count": null,
   "metadata": {},
   "outputs": [],
   "source": []
  },
  {
   "cell_type": "markdown",
   "metadata": {},
   "source": [
    "Open the file for a third time and iterate through its lines with a for loop. Print words shorter than 8 characters, and stop if you found the penguin!"
   ]
  },
  {
   "cell_type": "code",
   "execution_count": null,
   "metadata": {},
   "outputs": [],
   "source": []
  },
  {
   "cell_type": "markdown",
   "metadata": {},
   "source": [
    "## Error handling, exceptions\n",
    "<a id='exceptions'></a>"
   ]
  },
  {
   "cell_type": "markdown",
   "metadata": {},
   "source": [
    "Go through the elements of sample_list and print the length of each element. If an element doesn't have a length, catch the exception to avoid errors."
   ]
  },
  {
   "cell_type": "code",
   "execution_count": null,
   "metadata": {},
   "outputs": [],
   "source": [
    "sample_list = [3, \"12.2\", 4.2, \"penguin\", \"3.14\", \"0\", -2]"
   ]
  },
  {
   "cell_type": "code",
   "execution_count": null,
   "metadata": {},
   "outputs": [],
   "source": []
  }
 ],
 "metadata": {
  "kernelspec": {
   "display_name": "Python 3",
   "language": "python",
   "name": "python3"
  },
  "language_info": {
   "codemirror_mode": {
    "name": "ipython",
    "version": 3
   },
   "file_extension": ".py",
   "mimetype": "text/x-python",
   "name": "python",
   "nbconvert_exporter": "python",
   "pygments_lexer": "ipython3",
   "version": "3.7.2"
  }
 },
 "nbformat": 4,
 "nbformat_minor": 1
}
