{
 "cells": [
  {
   "cell_type": "markdown",
   "metadata": {},
   "source": [
    "# Object oriented programming in Python\n",
    "\n",
    "Python has been object oriented since its first version. In Python basically everything is an object including class definitions, functions and modules.\n",
    "\n",
    "PEP8 covers style guidelines for classes as well and we shall use them in our examples."
   ]
  },
  {
   "cell_type": "markdown",
   "metadata": {},
   "source": [
    "## Objects and classes\n",
    "\n",
    "We develop software to solve everyday problems. In our everyday problems, we tend to think about certain things that have some properties and we perform some operations on them that can modify their properties. For example, in a webshop application, such a thing can be a product that has an identifier, a name, a description, a category, a price and so on. We need to be able to perform some operations on products, e.g. change their price or order them. Such things as products in this example are called **objects** in object-oriented programming (OOP). Objects have some **attributes**, also called **fields** or **instance variables**. Basically, attributes are variables that are not self-contained variables but are attached to an object. Similarly, the operations are functions, which are attached to the object. They are called **methods** in this context.  So far, we have only talked about objects, but in fact, there is another similar important term: **class**. Classes are types and objects are concrete **instances** of a class. In this example, what we defined earlier is a Product class that has identifier, name, description, category and price attributes and change_price and order methods. In itself, this is just the type, it just specifies what attributes and methods a particular product has. If we create a concrete product and we assign values to the attributes, for example set identifier to 221853, name to \"pendrive 16GB\", description to \"Ultra-fast high capacity pendrive\", category to \"hardware\" and price to \"30 EUR\", we are now talking about an object, which is an instance of the Product class. The convention is that class names start with an uppercase letter and variables that refer to concrete instances of the class start with a lowercase letter, just like any other variables we have seen earlier.\n",
    "\n",
    "\n",
    "Classes and object are used in two slightly different manners. The first one is, as described above, when we use them to model real-world notions so that we can represent them in our software. These classes are normally called **domain classes**, **entity classes** or **data classes**. However, we do not just use classes for real-worl notions but to organize components of our software. Correctly adopting OOP design makes our software easier to understand, extend and maintain."
   ]
  },
  {
   "cell_type": "markdown",
   "metadata": {},
   "source": [
    "## Defining classes\n",
    "\n",
    "Classes are defined using the __class__ keyword. When we create an object, a concrete instance of a class, a magic method called __\\_\\_init\\_\\___ is called.  It can be used to initialize the attributes of the object.  In other languages, the equivalent notion is the **constructor**. In Python, however, this method is not a constructor, strictly speaking, since it is called after the creation of an object. It is not mandatory to define an __\\_\\_init\\_\\___ method. Just like any other function, __\\_\\_init\\_\\___ may have arguments, and it usually has some that it uses for setting the initial state.\n",
    "\n",
    "Unlike C++ and Java, Python explicitely binds instances to the first parameter of each method, which is called __self__. Calling it __self__ is not mandatory, but a convention that is universally followed. In practice, this means that to refer to attributes and methods, we have to use the __self__ variable."
   ]
  },
  {
   "cell_type": "code",
   "execution_count": null,
   "metadata": {},
   "outputs": [],
   "source": [
    "class Product:\n",
    "    def __init__(self, identifier, name, desc, category, price):\n",
    "        self.identifier = identifier\n",
    "        self.name = name\n",
    "        self.desc = desc\n",
    "        self.category = category\n",
    "        self.price = price"
   ]
  },
  {
   "cell_type": "markdown",
   "metadata": {},
   "source": [
    "Just as in the case of standalone variables, attributes need not - and cannot - be declared, they are created upon assignment."
   ]
  },
  {
   "cell_type": "markdown",
   "metadata": {},
   "source": [
    "Arbitrary number of arguments can be captured using `*` and `**`.\n",
    "By convention, these are called `*args` and `**kwargs`, capturing non-keyword and keyword arguments respectively."
   ]
  },
  {
   "cell_type": "code",
   "execution_count": null,
   "metadata": {},
   "outputs": [],
   "source": [
    "class InitWithVariableNumberOfArguments:\n",
    "    def __init__(self, *args, **kwargs):\n",
    "        self.val1 = args[0]\n",
    "        self.val2 = kwargs.get('important_param', 42)"
   ]
  },
  {
   "cell_type": "markdown",
   "metadata": {},
   "source": [
    "### Instantiation\n",
    "\n",
    "Instantian is similar to function calling"
   ]
  },
  {
   "cell_type": "code",
   "execution_count": null,
   "metadata": {},
   "outputs": [],
   "source": [
    "obj1 = Product(221853, \"pendrive 16GB\", \"Ultra-fast high capacity pendrive\", \"hardware\", \"30\")\n",
    "obj2 = InitWithVariableNumberOfArguments(1, 2, 3, param4=\"apple\", important_param=23)\n",
    "print(obj1.category, obj2.val1, obj2.val2)"
   ]
  },
  {
   "cell_type": "markdown",
   "metadata": {},
   "source": [
    "## Method attributes\n",
    "\n",
    "Methods are defined as functions inside the class definition. Methods always explicitly take the instance as the first parameter, which is usually called self."
   ]
  },
  {
   "cell_type": "code",
   "execution_count": null,
   "metadata": {},
   "outputs": [],
   "source": [
    "class A:\n",
    "    def foo(self):\n",
    "        print(\"foo called\")\n",
    "    \n",
    "    def bar(param):\n",
    "        print(\"bar called\")\n",
    "        \n",
    "c = A()\n",
    "c.foo()\n",
    "c.bar()"
   ]
  },
  {
   "cell_type": "markdown",
   "metadata": {},
   "source": [
    "Methods can be called via the class name with the instance as an explicit parameter."
   ]
  },
  {
   "cell_type": "code",
   "execution_count": null,
   "metadata": {},
   "outputs": [],
   "source": [
    "A.foo(c)\n",
    "A.bar(c)"
   ]
  },
  {
   "cell_type": "markdown",
   "metadata": {
    "collapsed": true
   },
   "source": [
    "## Special attributes\n",
    "\n",
    "Special attributes are created automatically for every object and they use the *dunder* notation (two leading and two trailing underscores). These are attributes that provide access to the implementation and are not intended for general use. Their definition may change in the future. For now, we only use the **\\_\\_dict\\_\\_** attribute. **\\_\\_dict\\_\\_** is the namespace of the attribute, it can show us the defined attributes and methods."
   ]
  },
  {
   "cell_type": "code",
   "execution_count": null,
   "metadata": {},
   "outputs": [],
   "source": [
    "A.__dict__"
   ]
  },
  {
   "cell_type": "markdown",
   "metadata": {},
   "source": [
    "### Data hiding with name mangling\n",
    "\n",
    "Generally, in OOP design we often prefer not touching the attributes directly from outside but accessing them only from the methods. This principle is called **encapsulation** or **data hiding**. Basically, its purpose is to guarantee the consistent state of attributes, for example, to inhibit setting invalid or contradictory data in attributes. The programmer, who wrote the class, knows how the class is supposed to work and what the valid values of different attributes may be. The same programmer writes the methods and he implements them guaranteeing the consistency of states. For example, the Product class should now allow that a negative price is set. If we allow setting the attribute from the outside, we are unable to enforce this in the implementation of the class but if we only allow setting the attribute through a method call, that method can check the validity of the new value and e.g. raise an exception if we try to set an invalid value.\n",
    "\n",
    "In Python, every attribute is public and there is no complete support for private variables. However, Python provides limited support for private attributes via __name mangling__. Every attribute with at least two leading underscores and at most one trailing underscore is textually replaced with *\\_\\_classname_attrname*, where *classname* is the name of the class and *attrname* is the name of the attribute."
   ]
  },
  {
   "cell_type": "code",
   "execution_count": null,
   "metadata": {},
   "outputs": [],
   "source": [
    "class Product:\n",
    "    def __init__(self, identifier, name, desc, category, price):\n",
    "        self.identifier = identifier\n",
    "        self.name = name\n",
    "        self.desc = desc\n",
    "        self.category = category\n",
    "        self.__price_ = price\n",
    "        \n",
    "    def set_price(self, price):\n",
    "        if price <= 0:\n",
    "            raise ValueError(\"Invalid price\")\n",
    "        self.__price_ = price\n",
    "        \n",
    "    def get_price(self):\n",
    "        return self.__price_\n",
    "\n",
    "product = Product(32345, \"Almond milk\", \"Without additives\", \"food\", 3)\n",
    "\n",
    "print(product.get_price())\n",
    "product.__price_ = 1\n",
    "\n",
    "# Still 3\n",
    "print(product.get_price())\n",
    "\n",
    "# This works...\n",
    "product.set_price(1)\n",
    "print(product.get_price())\n",
    "\n",
    "# This gives ValueError\n",
    "#product.set_price(-2)\n",
    "\n",
    "# Unfortunately, this works...\n",
    "product._Product__price_ = -2\n",
    "print(product.get_price())\n",
    "\n",
    "# Let's check the internals...\n",
    "product.__dict__"
   ]
  },
  {
   "cell_type": "markdown",
   "metadata": {
    "collapsed": true
   },
   "source": [
    "## Class attributes\n",
    "\n",
    "So far, we only created instance attributes, but Python supports class attributes. These are roughly the same as static attributes in C\\+\\+. Normal attributes or instance attributes can hold a distinct value for each instance of the class, whereas class attributes belong to the class and are common among all of its instances. For example, if all the products have the same VAT percentage, that could be stored as a class variable."
   ]
  },
  {
   "cell_type": "code",
   "execution_count": null,
   "metadata": {},
   "outputs": [],
   "source": [
    "class Product:\n",
    "    vat_percent = 27\n",
    "    \n",
    "    def __init__(self, identifier, name, desc, category, price):\n",
    "        self.identifier = identifier\n",
    "        self.name = name\n",
    "        self.desc = desc\n",
    "        self.category = category\n",
    "        self.__price_ = price\n",
    "        \n",
    "    def set_price(self, price):\n",
    "        if price <= 0:\n",
    "            raise ValueError(\"Invalid price\")\n",
    "        self.__price_ = price\n",
    "        \n",
    "    def get_price(self):\n",
    "        return self.__price_\n",
    "    \n",
    "    def get_gross_price(self):\n",
    "        return self.__price_ * (1 + Product.vat_percent / 100)\n",
    "       "
   ]
  },
  {
   "cell_type": "markdown",
   "metadata": {},
   "source": [
    "These attributes can be accessed both via an instance and via an instance:"
   ]
  },
  {
   "cell_type": "code",
   "execution_count": null,
   "metadata": {},
   "outputs": [],
   "source": [
    "p = Product(32345, \"Almond milk\", \"Without additives\", \"food\", 3)\n",
    "print(p.vat_percent, Product.vat_percent)\n",
    "print(p.get_gross_price())"
   ]
  },
  {
   "cell_type": "markdown",
   "metadata": {},
   "source": [
    "# Inheritance\n",
    "\n",
    "Python supports inheritance and multiple inheritance. A class may inherit from one or more classes, we shall refer to them as **base classes** and **subclass**.\n",
    "\n",
    "A minimal example looks like this:"
   ]
  },
  {
   "cell_type": "code",
   "execution_count": null,
   "metadata": {},
   "outputs": [],
   "source": [
    "class A:\n",
    "    pass\n",
    "\n",
    "class B(A):\n",
    "    pass\n",
    "\n",
    "a = A()\n",
    "b = B()\n",
    "print(isinstance(a, B))\n",
    "print(isinstance(b, A))\n",
    "print(issubclass(B, A))\n",
    "print(issubclass(A, B))"
   ]
  },
  {
   "cell_type": "markdown",
   "metadata": {},
   "source": [
    "If we do not specify a superclass, the class will inherit from **object**."
   ]
  },
  {
   "cell_type": "markdown",
   "metadata": {},
   "source": [
    "Methods are inherited in the usual way"
   ]
  },
  {
   "cell_type": "code",
   "execution_count": null,
   "metadata": {},
   "outputs": [],
   "source": [
    "class Bird:\n",
    "    def make_sound(self):\n",
    "        print(\"Pio pio\")\n",
    "        \n",
    "    def sleep(self):\n",
    "        print(\"(...zzz...)\")\n",
    "        \n",
    "class Duck(Bird):\n",
    "    def make_sound(self):\n",
    "        print(\"Quack quack\")\n",
    "        \n",
    "duck = Duck()\n",
    "duck.make_sound()\n",
    "duck.sleep()"
   ]
  },
  {
   "cell_type": "markdown",
   "metadata": {},
   "source": [
    "Since data attributes can be created anywhere, they are only inherited if the code in the base class' method is called."
   ]
  },
  {
   "cell_type": "code",
   "execution_count": null,
   "metadata": {},
   "outputs": [],
   "source": [
    "class A:\n",
    "    \n",
    "    def foo(self):\n",
    "        self.value = 42\n",
    "        \n",
    "class B(A):\n",
    "    pass\n",
    "\n",
    "b = B()\n",
    "print(b.__dict__)\n",
    "a = A()\n",
    "print(a.__dict__)\n",
    "a.foo()\n",
    "print(a.__dict__)\n",
    "b.foo()\n",
    "print(b.__dict__)"
   ]
  },
  {
   "cell_type": "markdown",
   "metadata": {},
   "source": [
    "Unlike in C++, the \\_\\_init\\_\\_ method of the base class is not called when a subclass is instantiated, if the subclass overrides the base class's \\_\\_init\\_\\_."
   ]
  },
  {
   "cell_type": "code",
   "execution_count": null,
   "metadata": {},
   "outputs": [],
   "source": [
    "class A(object):\n",
    "    def __init__(self):\n",
    "        print(\"A.__init__ called\")\n",
    "        \n",
    "        \n",
    "class B(A):\n",
    "    def __init__(self):\n",
    "        print(\"B.__init__ called\")\n",
    "        \n",
    "class C(A):\n",
    "    pass\n",
    "        \n",
    "b = B()\n",
    "c = C()"
   ]
  },
  {
   "cell_type": "markdown",
   "metadata": {},
   "source": [
    "The base class's methods can be called in at least two ways:\n",
    "1. explicitely via the class name\n",
    "1. using the **super** function\n",
    "\n",
    "Using the super function, we do not need to name the base class, which will come in handy when dealing with multiple base classes."
   ]
  },
  {
   "cell_type": "code",
   "execution_count": null,
   "metadata": {},
   "outputs": [],
   "source": [
    "class A(object):\n",
    "    def __init__(self):\n",
    "        print(\"A.__init__ called\")\n",
    "        \n",
    "        \n",
    "class B(A):\n",
    "    def __init__(self):\n",
    "        A.__init__(self)\n",
    "        print(\"B.__init__ called\")\n",
    "        \n",
    "class C(A):\n",
    "    def __init__(self):\n",
    "        super(C, self).__init__()\n",
    "        print(\"B.__init__ called\")\n",
    "        \n",
    "print(\"Instantiating B\")\n",
    "b = B()\n",
    "print(\"Instantiating C\")\n",
    "c = C()"
   ]
  },
  {
   "cell_type": "markdown",
   "metadata": {},
   "source": [
    "A complete example using super in the subclass's init:"
   ]
  },
  {
   "cell_type": "code",
   "execution_count": null,
   "metadata": {},
   "outputs": [],
   "source": [
    "class Person(object):\n",
    "    \n",
    "    def __init__(self, name, age):\n",
    "        self.name = name\n",
    "        self.age = age\n",
    "        \n",
    "    def __str__(self):\n",
    "        return \"{0}, age {1}\".format(self.name, self.age)\n",
    "        \n",
    "class Employee(Person):\n",
    "    \n",
    "    def __init__(self, name, age, position, salary):\n",
    "        self.position = position\n",
    "        self.salary = salary\n",
    "        super(Employee, self).__init__(name, age)\n",
    "        \n",
    "    def __str__(self):\n",
    "        return \"{0}, position: {1}, salary: {2}\".format(super(Employee, self).__str__(), self.position, self.salary)\n",
    "    \n",
    "    \n",
    "e = Employee(\"Jakab Gipsz\", 33, \"manager\", 450000)\n",
    "print(e)\n",
    "print(Person(e.name, e.age))"
   ]
  },
  {
   "cell_type": "markdown",
   "metadata": {},
   "source": [
    "## Magic methods\n",
    "\n",
    "Magic methods are builtin methods for classes and modules that enable advanced customization such as operator overloading. They are numerous and we shall only introduce the most prevalent ones. Their names are always enclosed between two underscores. So far, we have used `__init__` as a 'contructor' and `__str__`."
   ]
  },
  {
   "cell_type": "code",
   "execution_count": null,
   "metadata": {},
   "outputs": [],
   "source": [
    "class A(object):\n",
    "    def __init__(self, value=42):\n",
    "        self.param = value\n",
    "        \n",
    "    def __str__(self):\n",
    "        return \"My id is {0} and my parameter is {1}\".format(id(self), self.param)\n",
    "    \n",
    "print(A(345))"
   ]
  },
  {
   "cell_type": "markdown",
   "metadata": {},
   "source": [
    "The `__str__` method returns the string representation of the object."
   ]
  },
  {
   "cell_type": "markdown",
   "metadata": {},
   "source": [
    "### Operator overloading\n",
    "\n",
    "Common operators are mapped to magic functions and operator overloading can be achieved with defining or overloading these functions.\n",
    "\n",
    "A comprehensive list of operator functions are [here](https://docs.python.org/2/library/operator.html)."
   ]
  },
  {
   "cell_type": "code",
   "execution_count": null,
   "metadata": {},
   "outputs": [],
   "source": [
    "class Complex(object):\n",
    "    def __init__(self, real=0.0, imag=0.0):\n",
    "        self.real = real\n",
    "        self.imag = imag\n",
    "        \n",
    "    def __abs__(self):\n",
    "        return (self.real**2 + self.imag**2) ** 0.5\n",
    "    \n",
    "    def __eq__(self, other):  # right hand side\n",
    "        return self.real == other.real and self.imag == other.imag\n",
    "    \n",
    "    def __gt__(self, other):\n",
    "        return abs(self) > abs(other)\n",
    "    \n",
    "c1 = Complex()\n",
    "c2 = Complex(1, 1)\n",
    "c1 > c2"
   ]
  },
  {
   "cell_type": "markdown",
   "metadata": {},
   "source": [
    "However, these are very far from complete implementations. We need to take care of preventing infinite loops and support for pickling."
   ]
  }
 ],
 "metadata": {
  "kernelspec": {
   "display_name": "Python 3",
   "language": "python",
   "name": "python3"
  },
  "language_info": {
   "codemirror_mode": {
    "name": "ipython",
    "version": 3
   },
   "file_extension": ".py",
   "mimetype": "text/x-python",
   "name": "python",
   "nbconvert_exporter": "python",
   "pygments_lexer": "ipython3",
   "version": "3.7.2"
  }
 },
 "nbformat": 4,
 "nbformat_minor": 1
}
