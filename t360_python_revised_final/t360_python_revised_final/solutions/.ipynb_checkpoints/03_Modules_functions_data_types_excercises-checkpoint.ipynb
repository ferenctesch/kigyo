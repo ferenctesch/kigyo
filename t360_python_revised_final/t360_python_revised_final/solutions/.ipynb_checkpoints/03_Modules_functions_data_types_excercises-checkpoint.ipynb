{
 "cells": [
  {
   "cell_type": "markdown",
   "metadata": {},
   "source": [
    "# Excercises for modules, functions and data types\n",
    "[Defining functions](#def)\n",
    "\n",
    "[Function parameters](#param)\n",
    "\n",
    "[Recursive functions](#recursive)\n",
    "\n",
    "[Basic data types](#datatypes)"
   ]
  },
  {
   "cell_type": "markdown",
   "metadata": {},
   "source": [
    "## Defining functions\n",
    "<a id='def'></a>"
   ]
  },
  {
   "cell_type": "markdown",
   "metadata": {},
   "source": [
    "### Calculating interest"
   ]
  },
  {
   "cell_type": "markdown",
   "metadata": {},
   "source": [
    "Define a function that takes three parameters: the amount of money I have in the bank, the annual interest rate, and the number of years, and returns the amount of money that I have after the given number of years. Instead of finding the formula with Google, try thinking algotihmically: how much money are you going to have after the first year? And the second year and so on? Use a loop for the calculation."
   ]
  },
  {
   "cell_type": "code",
   "execution_count": 1,
   "metadata": {},
   "outputs": [
    {
     "data": {
      "text/plain": [
       "1610.51"
      ]
     },
     "execution_count": 1,
     "metadata": {},
     "output_type": "execute_result"
    }
   ],
   "source": [
    "def calculate_interest(balance, interest, years):\n",
    "    elapsed_years = 0\n",
    "    while elapsed_years < years:\n",
    "        balance += balance * interest/100\n",
    "        elapsed_years += 1\n",
    "    return balance\n",
    "        \n",
    "calculate_interest(1000, 10, 5)"
   ]
  },
  {
   "cell_type": "markdown",
   "metadata": {},
   "source": [
    "### Calculating investment duration"
   ]
  },
  {
   "cell_type": "markdown",
   "metadata": {},
   "source": [
    "Define a function that takes three parameters: the amount of money I have in the bank, the annual interest rate, and the target sum, and returns the number of years I have to wait before I'll have the given amount of money"
   ]
  },
  {
   "cell_type": "code",
   "execution_count": 2,
   "metadata": {},
   "outputs": [
    {
     "data": {
      "text/plain": [
       "5"
      ]
     },
     "execution_count": 2,
     "metadata": {},
     "output_type": "execute_result"
    }
   ],
   "source": [
    "def calculate_years(balance, interest, target):\n",
    "    elapsed_years = 0\n",
    "    while balance < target:\n",
    "        balance += balance * interest/100\n",
    "        elapsed_years += 1\n",
    "    return elapsed_years\n",
    "        \n",
    "calculate_years(1000, 10, 1610)"
   ]
  },
  {
   "cell_type": "markdown",
   "metadata": {},
   "source": [
    "### Powers of two with map"
   ]
  },
  {
   "cell_type": "markdown",
   "metadata": {},
   "source": [
    "Use _map_ and a lambda function to generate powers of 2. If you find it difficult to use a lambda, you can solve the exercise with a normal function."
   ]
  },
  {
   "cell_type": "code",
   "execution_count": 3,
   "metadata": {},
   "outputs": [
    {
     "data": {
      "text/plain": [
       "[1, 2, 4, 8, 16, 32, 64, 128, 256, 512, 1024]"
      ]
     },
     "execution_count": 3,
     "metadata": {},
     "output_type": "execute_result"
    }
   ],
   "source": [
    "list(map(lambda x: 2 ** x, range(0, 11)))"
   ]
  },
  {
   "cell_type": "markdown",
   "metadata": {},
   "source": [
    "### Maximum search with reduce"
   ]
  },
  {
   "cell_type": "markdown",
   "metadata": {},
   "source": [
    "Use _reduce_ and a lambda function to find the maximum element of a list of numbers. If you find it difficult to use a lambda, you can solve the exercise with a normal function."
   ]
  },
  {
   "cell_type": "code",
   "execution_count": 4,
   "metadata": {},
   "outputs": [
    {
     "data": {
      "text/plain": [
       "54"
      ]
     },
     "execution_count": 4,
     "metadata": {},
     "output_type": "execute_result"
    }
   ],
   "source": [
    "from functools import reduce\n",
    "\n",
    "l = [10, 32, 2, 54, 9, 12, 3]\n",
    "reduce(lambda x, y: x if x > y else y, l)"
   ]
  },
  {
   "cell_type": "markdown",
   "metadata": {},
   "source": [
    "### Sum of squares"
   ]
  },
  {
   "cell_type": "markdown",
   "metadata": {},
   "source": [
    "Use both _map_ and _reduce_ to calculate the sum of the squares of numbers in the test_list."
   ]
  },
  {
   "cell_type": "code",
   "execution_count": null,
   "metadata": {},
   "outputs": [],
   "source": [
    "squares = map(lambda x: x ** 2, l)\n",
    "reduce(lambda x, y: x + y, squares)"
   ]
  },
  {
   "cell_type": "markdown",
   "metadata": {},
   "source": [
    "## Function parameters\n",
    "<a id='param'></a>"
   ]
  },
  {
   "cell_type": "markdown",
   "metadata": {},
   "source": [
    "### Calculating investment duration"
   ]
  },
  {
   "cell_type": "markdown",
   "metadata": {},
   "source": [
    "Modify the function in that calculated how many years you had to keep your money in the bank to reach your target balance. The interest rate and starting amount can take default values and only the target amount need be specified."
   ]
  },
  {
   "cell_type": "code",
   "execution_count": null,
   "metadata": {},
   "outputs": [],
   "source": [
    "def calculate_years(target, balance = 1000, interest = 10):\n",
    "    elapsed_years = 0\n",
    "    while balance < target:\n",
    "        balance += balance * interest/100\n",
    "        elapsed_years += 1\n",
    "    return elapsed_years\n",
    "        \n",
    "calculate_years(1100, 1000, 10)"
   ]
  },
  {
   "cell_type": "markdown",
   "metadata": {},
   "source": [
    "### Find longest argument"
   ]
  },
  {
   "cell_type": "markdown",
   "metadata": {},
   "source": [
    "Define a function that takes an arbitrary number of strings as its arguments and prints the longest one."
   ]
  },
  {
   "cell_type": "code",
   "execution_count": null,
   "metadata": {},
   "outputs": [],
   "source": [
    "def longest(*args):\n",
    "    return max(args)\n",
    "\n",
    "longest(\"foo\", \"bar\", \"foobar\", \"abc\")"
   ]
  },
  {
   "cell_type": "markdown",
   "metadata": {},
   "source": [
    "## Recursive functions\n",
    "<a id='recursive'></a>"
   ]
  },
  {
   "cell_type": "markdown",
   "metadata": {},
   "source": [
    "### Recursive sum"
   ]
  },
  {
   "cell_type": "markdown",
   "metadata": {},
   "source": [
    "Write a recursive function that sums the elements of a list.\n",
    "\n",
    "(Hint: l.pop() removes and returns the last element of the list.)"
   ]
  },
  {
   "cell_type": "code",
   "execution_count": null,
   "metadata": {},
   "outputs": [],
   "source": [
    "def sum_list(l):\n",
    "    if len(l) == 0:\n",
    "        return 0\n",
    "    return l.pop() + sum_list(l)\n",
    "\n",
    "sum_list([3, 2, 1, 4])"
   ]
  },
  {
   "cell_type": "markdown",
   "metadata": {},
   "source": [
    "### Recursive maximum search"
   ]
  },
  {
   "cell_type": "markdown",
   "metadata": {},
   "source": [
    "Write a recursive function that finds the maximum element in a list of numbers"
   ]
  },
  {
   "cell_type": "code",
   "execution_count": null,
   "metadata": {},
   "outputs": [],
   "source": [
    "def max_list(l):\n",
    "    if len(l) == 0:\n",
    "        raise ValueError\n",
    "    if len(l) == 1:\n",
    "        return l[0]\n",
    "    \n",
    "    elem = l.pop()\n",
    "    rest_max = max_list(l)\n",
    "    \n",
    "    if elem > rest_max:\n",
    "        return elem\n",
    "    else:\n",
    "        return rest_max\n",
    "\n",
    "max_list([3, 2, 1, 4])"
   ]
  },
  {
   "cell_type": "markdown",
   "metadata": {
    "collapsed": true
   },
   "source": [
    "## Basic data types\n",
    "<a id='datatypes'></a>"
   ]
  },
  {
   "cell_type": "markdown",
   "metadata": {},
   "source": [
    "### Converting to int"
   ]
  },
  {
   "cell_type": "markdown",
   "metadata": {},
   "source": [
    "Define a function that takes a list as its argument and returns a list booleans, indicating for each element if it can be converted to an int. Test your solution on test_list2!"
   ]
  },
  {
   "cell_type": "code",
   "execution_count": null,
   "metadata": {},
   "outputs": [],
   "source": [
    "test_list2 = [3, \"12.2\", 4.2, \"penguin\", \"3.14\", 2+1j, \"0\", -2]"
   ]
  },
  {
   "cell_type": "code",
   "execution_count": null,
   "metadata": {},
   "outputs": [],
   "source": [
    "def convertable_to_int(l):\n",
    "    ret = []\n",
    "    for item in l:\n",
    "        try:\n",
    "            int(item)\n",
    "            ret.append(True)\n",
    "        except:\n",
    "            ret.append(False)\n",
    "    return ret\n",
    "\n",
    "print(isint(test_list2))"
   ]
  },
  {
   "cell_type": "markdown",
   "metadata": {},
   "source": [
    "### Find words starting with a given letter"
   ]
  },
  {
   "cell_type": "markdown",
   "metadata": {},
   "source": [
    "Define a function that processes a text file and uses a set to collect all words starting with a given letter. Then use it to find all words starting wit the capital letter \"P\" in the file \"data/sample_text.txt\", and print ten of them."
   ]
  },
  {
   "cell_type": "code",
   "execution_count": null,
   "metadata": {},
   "outputs": [],
   "source": [
    "import re\n",
    "\n",
    "def findwords(fname, letter):\n",
    "    f = open(fname, encoding='utf8')\n",
    "    content = f.read()\n",
    "    \n",
    "    result = set()\n",
    "    words = re.split(r\" |\\.|,|\\?|!|\\n|;|:|'|\\\"\", content)\n",
    "    \n",
    "    for w in words:\n",
    "        if w == \"\":\n",
    "            continue\n",
    "        elif w[0] == letter:\n",
    "            result.add(w)\n",
    "    return result\n",
    "\n",
    "s1 = findwords('data/sample_text.txt', 'P')\n",
    "print(s1)"
   ]
  },
  {
   "cell_type": "markdown",
   "metadata": {},
   "source": [
    "### Set intersection"
   ]
  },
  {
   "cell_type": "markdown",
   "metadata": {},
   "source": [
    "Use the previous function and set intersection to find all words starting with capital \"P\" that are present in both files \"data/sample_text.txt\" and \"data/sample_text2.txt\". Also find those that are present in one but not the other."
   ]
  },
  {
   "cell_type": "code",
   "execution_count": null,
   "metadata": {},
   "outputs": [],
   "source": [
    "s2 = findwords('data/sample_text2.txt', 'P')\n",
    "print(s1, s2)\n",
    "print(s1.union(s2))\n",
    "print(s1.intersection(s2))"
   ]
  }
 ],
 "metadata": {
  "kernelspec": {
   "display_name": "Python 3",
   "language": "python",
   "name": "python3"
  },
  "language_info": {
   "codemirror_mode": {
    "name": "ipython",
    "version": 3
   },
   "file_extension": ".py",
   "mimetype": "text/x-python",
   "name": "python",
   "nbconvert_exporter": "python",
   "pygments_lexer": "ipython3",
   "version": "3.7.2"
  }
 },
 "nbformat": 4,
 "nbformat_minor": 1
}
