{
 "cells": [
  {
   "cell_type": "markdown",
   "metadata": {},
   "source": [
    "# Excercises for sequences\n",
    "\n",
    "[Strings](#4.1)\n",
    "\n",
    "[Lists](#4.2)\n",
    "\n",
    "[Dictionaries](#4.3)"
   ]
  },
  {
   "cell_type": "markdown",
   "metadata": {},
   "source": [
    "## Strings\n",
    "<a id='4.1'></a>"
   ]
  },
  {
   "cell_type": "markdown",
   "metadata": {},
   "source": [
    "Define a function that splits a text into sentences (on \".\", \"!\", \"?\", etc.)"
   ]
  },
  {
   "cell_type": "code",
   "execution_count": null,
   "metadata": {},
   "outputs": [],
   "source": [
    "import re\n",
    "\n",
    "def split_into_sentences(text):\n",
    "    sentences = re.split(r\"\\.|,|\\?|!|\\n\", text)\n",
    "    sentences = filter(lambda s: len(s) > 0, sentences)\n",
    "    return list(sentences)\n",
    "\n",
    "split_into_sentences('This is a sentence. And this is a next one! Anything else?\\nNew line sentence.')"
   ]
  },
  {
   "cell_type": "markdown",
   "metadata": {},
   "source": [
    "Define a function that splits sentences into words, and strips punctuation marks (\",\", \";\", etc.) from edges of words."
   ]
  },
  {
   "cell_type": "code",
   "execution_count": null,
   "metadata": {},
   "outputs": [],
   "source": [
    "def split_into_words(sentence):\n",
    "    words = []\n",
    "    for word in sentence.split():\n",
    "        words.append(word.strip(',;.!?'))\n",
    "    return words\n",
    "\n",
    "split_into_words('This is a; sentence?')"
   ]
  },
  {
   "cell_type": "markdown",
   "metadata": {},
   "source": [
    "Use the last two functions in one that takes a filename as its argument and returns the text in the file as a list of lists. Test it on the file \"data/sample_text.txt\""
   ]
  },
  {
   "cell_type": "code",
   "execution_count": null,
   "metadata": {},
   "outputs": [],
   "source": [
    "def process_text(fname):\n",
    "    f = open(fname)\n",
    "    text = f.read()\n",
    "    result = []\n",
    "    sentences = split_into_sentences(text)\n",
    "    for sentence in sentences:\n",
    "        result.append(split_into_words(sentence))\n",
    "    f.close()\n",
    "    return result\n",
    "\n",
    "process_text('data/sample_text.txt')"
   ]
  },
  {
   "cell_type": "markdown",
   "metadata": {},
   "source": [
    "## Lists\n",
    "<a id='4.2'></a>"
   ]
  },
  {
   "cell_type": "markdown",
   "metadata": {},
   "source": [
    "Define a function that takes a list and string, then returns all elements that start with the string, along with their indices in the list."
   ]
  },
  {
   "cell_type": "code",
   "execution_count": null,
   "metadata": {},
   "outputs": [],
   "source": [
    "def find_starters(items, starter):\n",
    "    result = []\n",
    "    for i in range(len(items)):\n",
    "        if items[i].startswith(starter):\n",
    "            result.append((items[i], i))\n",
    "    return result\n",
    "\n",
    "find_starters(['ballpen', 'penguin', 'pencil', 'dispenser'], 'pen')"
   ]
  },
  {
   "cell_type": "markdown",
   "metadata": {},
   "source": [
    "## Dictionaries\n",
    "<a id='4.3'></a>"
   ]
  },
  {
   "cell_type": "markdown",
   "metadata": {},
   "source": [
    "Use a dictionary to count words in our sample text (use your text processing functions!). Then print the most common words, along with their frequencies!"
   ]
  },
  {
   "cell_type": "code",
   "execution_count": null,
   "metadata": {},
   "outputs": [],
   "source": [
    "def count_words():\n",
    "    all_text = process_text('data/sample_text.txt')\n",
    "    word_count = {}\n",
    "    for sentence in all_text:\n",
    "        for word in sentence:\n",
    "            if word not in word_count:\n",
    "                word_count[word] = 0\n",
    "            word_count[word] += 1\n",
    "    return word_count\n",
    "\n",
    "count_words()"
   ]
  }
 ],
 "metadata": {
  "kernelspec": {
   "display_name": "Python 3",
   "language": "python",
   "name": "python3"
  },
  "language_info": {
   "codemirror_mode": {
    "name": "ipython",
    "version": 3
   },
   "file_extension": ".py",
   "mimetype": "text/x-python",
   "name": "python",
   "nbconvert_exporter": "python",
   "pygments_lexer": "ipython3",
   "version": "3.6.5"
  }
 },
 "nbformat": 4,
 "nbformat_minor": 1
}
