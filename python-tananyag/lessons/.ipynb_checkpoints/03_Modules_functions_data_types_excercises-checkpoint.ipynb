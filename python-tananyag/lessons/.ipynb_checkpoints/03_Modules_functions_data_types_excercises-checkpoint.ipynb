{
 "cells": [
  {
   "cell_type": "markdown",
   "metadata": {},
   "source": [
    "# Excercises for modules, functions and data types\n",
    "[Defining functions](#def)\n",
    "\n",
    "[Function parameters](#param)\n",
    "\n",
    "[Recursive functions](#recursive)\n",
    "\n",
    "[Basic data types](#datatypes)"
   ]
  },
  {
   "cell_type": "markdown",
   "metadata": {},
   "source": [
    "## Defining functions\n",
    "<a id='def'></a>"
   ]
  },
  {
   "cell_type": "markdown",
   "metadata": {},
   "source": [
    "### Calculating interest"
   ]
  },
  {
   "cell_type": "markdown",
   "metadata": {},
   "source": [
    "Define a function that takes three parameters: the amount of money I have in the bank, the annual interest rate, and the number of years, and returns the amount of money that I have after the given number of years. Instead of finding the formula with Google, try thinking algotihmically: how much money are you going to have after the first year? And the second year and so on? Use a loop for the calculation."
   ]
  },
  {
   "cell_type": "code",
   "execution_count": 18,
   "metadata": {},
   "outputs": [
    {
     "name": "stdout",
     "output_type": "stream",
     "text": [
      "Help on function target_sum in module __main__:\n",
      "\n",
      "target_sum(amount, rate, years)\n",
      "    amount: betét állomány\n",
      "    rate: kamatláb %-ban\n",
      "    years: évek száma\n",
      "    \n",
      "    return megtakaritas\n",
      "\n"
     ]
    },
    {
     "data": {
      "text/plain": [
       "144.0"
      ]
     },
     "execution_count": 18,
     "metadata": {},
     "output_type": "execute_result"
    }
   ],
   "source": [
    "import math\n",
    "def target_sum(amount, rate, years):\n",
    "    \"\"\" amount: betét állomány\n",
    "    rate: kamatláb %-ban\n",
    "    years: évek száma\\n\n",
    "    return megtakaritas\"\"\"\n",
    "    return amount*(1+(rate/100)) ** years\n",
    "help(target_sum)\n",
    "target_sum(100,20,2)"
   ]
  },
  {
   "cell_type": "markdown",
   "metadata": {},
   "source": [
    "### Calculating investment duration"
   ]
  },
  {
   "cell_type": "markdown",
   "metadata": {},
   "source": [
    "Define a function that takes three parameters: the amount of money I have in the bank, the annual interest rate, and the target sum, and returns the number of years I have to wait before I'll have the given amount of money"
   ]
  },
  {
   "cell_type": "code",
   "execution_count": 17,
   "metadata": {},
   "outputs": [
    {
     "name": "stdout",
     "output_type": "stream",
     "text": [
      "Help on function needed_years in module __main__:\n",
      "\n",
      "needed_years(amount, rate, target_sum)\n",
      "    amount: betét állomány\n",
      "    rate: kamatláb %-ban\n",
      "    target_sum: elvárt betét a hozam végén\n",
      "    \n",
      "    return: years: évek száma\n",
      "\n"
     ]
    },
    {
     "ename": "NameError",
     "evalue": "name 'target' is not defined",
     "output_type": "error",
     "traceback": [
      "\u001b[1;31m---------------------------------------------------------------------------\u001b[0m",
      "\u001b[1;31mNameError\u001b[0m                                 Traceback (most recent call last)",
      "\u001b[1;32m<ipython-input-17-cf6c3c8b00a1>\u001b[0m in \u001b[0;36m<module>\u001b[1;34m\u001b[0m\n\u001b[0;32m      9\u001b[0m \u001b[1;33m\u001b[0m\u001b[0m\n\u001b[0;32m     10\u001b[0m \u001b[0mhelp\u001b[0m\u001b[1;33m(\u001b[0m\u001b[0mneeded_years\u001b[0m\u001b[1;33m)\u001b[0m\u001b[1;33m\u001b[0m\u001b[1;33m\u001b[0m\u001b[0m\n\u001b[1;32m---> 11\u001b[1;33m \u001b[0mneeded_years\u001b[0m\u001b[1;33m(\u001b[0m\u001b[1;36m100\u001b[0m\u001b[1;33m,\u001b[0m\u001b[1;36m20\u001b[0m\u001b[1;33m,\u001b[0m\u001b[1;36m144\u001b[0m\u001b[1;33m)\u001b[0m\u001b[1;33m\u001b[0m\u001b[1;33m\u001b[0m\u001b[0m\n\u001b[0m",
      "\u001b[1;32m<ipython-input-17-cf6c3c8b00a1>\u001b[0m in \u001b[0;36mneeded_years\u001b[1;34m(amount, rate, target_sum)\u001b[0m\n\u001b[0;32m      5\u001b[0m     \u001b[0mtarget_sum\u001b[0m\u001b[1;33m:\u001b[0m \u001b[0melvárt\u001b[0m \u001b[0mbetét\u001b[0m \u001b[0ma\u001b[0m \u001b[0mhozam\u001b[0m \u001b[0mvégén\u001b[0m\u001b[0;31m\\\u001b[0m\u001b[0mn\u001b[0m\u001b[1;33m\u001b[0m\u001b[1;33m\u001b[0m\u001b[0m\n\u001b[0;32m      6\u001b[0m     return: years: évek száma\"\"\"\n\u001b[1;32m----> 7\u001b[1;33m     \u001b[1;32mreturn\u001b[0m \u001b[0mmath\u001b[0m\u001b[1;33m.\u001b[0m\u001b[0mlog10\u001b[0m\u001b[1;33m(\u001b[0m\u001b[0mtarget\u001b[0m\u001b[1;33m)\u001b[0m \u001b[1;33m-\u001b[0m \u001b[0mmath\u001b[0m\u001b[1;33m.\u001b[0m\u001b[0mlog10\u001b[0m\u001b[1;33m(\u001b[0m\u001b[0mamount\u001b[0m\u001b[1;33m)\u001b[0m \u001b[1;33m/\u001b[0m \u001b[0mmath\u001b[0m\u001b[1;33m.\u001b[0m\u001b[0mlog10\u001b[0m\u001b[1;33m(\u001b[0m\u001b[1;36m1\u001b[0m \u001b[1;33m+\u001b[0m \u001b[0mrate\u001b[0m \u001b[1;33m/\u001b[0m \u001b[1;36m100\u001b[0m\u001b[1;33m)\u001b[0m\u001b[1;33m\u001b[0m\u001b[1;33m\u001b[0m\u001b[0m\n\u001b[0m\u001b[0;32m      8\u001b[0m \u001b[1;33m\u001b[0m\u001b[0m\n\u001b[0;32m      9\u001b[0m \u001b[1;33m\u001b[0m\u001b[0m\n",
      "\u001b[1;31mNameError\u001b[0m: name 'target' is not defined"
     ]
    }
   ],
   "source": [
    "import math\n",
    "def needed_years(amount, rate, target_sum):\n",
    "    \"\"\" amount: betét állomány\n",
    "    rate: kamatláb %-ban\n",
    "    target_sum: elvárt betét a hozam végén\\n\n",
    "    return: years: évek száma\"\"\"\n",
    "    return math.log10(target) - math.log10(amount) / math.log10(1 + rate / 100)\n",
    "    \n",
    "    \n",
    "help(needed_years)\n",
    "needed_years(100,20,144)\n"
   ]
  },
  {
   "cell_type": "markdown",
   "metadata": {},
   "source": [
    "### Powers of two with map"
   ]
  },
  {
   "cell_type": "markdown",
   "metadata": {},
   "source": [
    "Use _map_ and a lambda function to generate powers of 2. If you find it difficult to use a lambda, you can solve the exercise with a normal function."
   ]
  },
  {
   "cell_type": "code",
   "execution_count": null,
   "metadata": {},
   "outputs": [],
   "source": []
  },
  {
   "cell_type": "markdown",
   "metadata": {},
   "source": [
    "### Maximum search with reduce"
   ]
  },
  {
   "cell_type": "markdown",
   "metadata": {},
   "source": [
    "Use _reduce_ and a lambda function to find the maximum element of a list of numbers. If you find it difficult to use a lambda, you can solve the exercise with a normal function."
   ]
  },
  {
   "cell_type": "code",
   "execution_count": 32,
   "metadata": {},
   "outputs": [
    {
     "data": {
      "text/plain": [
       "101"
      ]
     },
     "execution_count": 32,
     "metadata": {},
     "output_type": "execute_result"
    }
   ],
   "source": [
    "A = [-1, 3, 7, 99, 101]\n",
    "from functools import reduce\n",
    "reduce(lambda x, y: x if (x > y) else y, A)"
   ]
  },
  {
   "cell_type": "markdown",
   "metadata": {},
   "source": [
    "### Sum of squares"
   ]
  },
  {
   "cell_type": "markdown",
   "metadata": {},
   "source": [
    "Use both _map_ and _reduce_ to calculate the sum of the squares of numbers in the test_list."
   ]
  },
  {
   "cell_type": "code",
   "execution_count": 37,
   "metadata": {},
   "outputs": [
    {
     "data": {
      "text/plain": [
       "(<function __main__.<lambda>(x)>, [1, 2, 3, 4, 5])"
      ]
     },
     "execution_count": 37,
     "metadata": {},
     "output_type": "execute_result"
    }
   ],
   "source": [
    "test = [1, 2, 3, 4, 5 ]\n",
    "from functools import reduce\n",
    "lambda x: x ** 2, test\n"
   ]
  },
  {
   "cell_type": "markdown",
   "metadata": {},
   "source": [
    "## Function parameters\n",
    "<a id='param'></a>"
   ]
  },
  {
   "cell_type": "markdown",
   "metadata": {},
   "source": [
    "### Calculating investment duration"
   ]
  },
  {
   "cell_type": "markdown",
   "metadata": {},
   "source": [
    "Modify the function in that calculated how many years you had to keep your money in the bank to reach your target balance. The interest rate and starting amount can take default values and only the target amount need be specified."
   ]
  },
  {
   "cell_type": "code",
   "execution_count": null,
   "metadata": {},
   "outputs": [],
   "source": []
  },
  {
   "cell_type": "markdown",
   "metadata": {},
   "source": [
    "### Find longest argument"
   ]
  },
  {
   "cell_type": "markdown",
   "metadata": {},
   "source": [
    "Define a function that takes an arbitrary number of strings as its arguments and prints the longest one."
   ]
  },
  {
   "cell_type": "code",
   "execution_count": null,
   "metadata": {},
   "outputs": [],
   "source": []
  },
  {
   "cell_type": "markdown",
   "metadata": {},
   "source": [
    "## Recursive functions\n",
    "<a id='recursive'></a>"
   ]
  },
  {
   "cell_type": "markdown",
   "metadata": {},
   "source": [
    "### Recursive sum"
   ]
  },
  {
   "cell_type": "markdown",
   "metadata": {},
   "source": [
    "Write a recursive function that sums the elements of a list.\n",
    "\n",
    "(Hint: l.pop() removes and returns the last element of the list.)"
   ]
  },
  {
   "cell_type": "code",
   "execution_count": null,
   "metadata": {},
   "outputs": [],
   "source": []
  },
  {
   "cell_type": "markdown",
   "metadata": {},
   "source": [
    "### Recursive maximum search"
   ]
  },
  {
   "cell_type": "markdown",
   "metadata": {},
   "source": [
    "Write a recursive function that finds the maximum element in a list of numbers"
   ]
  },
  {
   "cell_type": "code",
   "execution_count": null,
   "metadata": {},
   "outputs": [],
   "source": []
  },
  {
   "cell_type": "markdown",
   "metadata": {
    "collapsed": true
   },
   "source": [
    "## Basic data types\n",
    "<a id='datatypes'></a>"
   ]
  },
  {
   "cell_type": "markdown",
   "metadata": {},
   "source": [
    "### Converting to int"
   ]
  },
  {
   "cell_type": "markdown",
   "metadata": {},
   "source": [
    "Define a function that takes a list as its argument and returns a list booleans, indicating for each element if it can be converted to an int. Test your solution on test_list2!"
   ]
  },
  {
   "cell_type": "code",
   "execution_count": null,
   "metadata": {},
   "outputs": [],
   "source": [
    "test_list2 = [3, \"12.2\", 4.2, \"penguin\", \"3.14\", 2+1j, \"0\", -2]"
   ]
  },
  {
   "cell_type": "code",
   "execution_count": null,
   "metadata": {},
   "outputs": [],
   "source": []
  },
  {
   "cell_type": "markdown",
   "metadata": {},
   "source": [
    "### Find words starting with a given letter"
   ]
  },
  {
   "cell_type": "markdown",
   "metadata": {},
   "source": [
    "Define a function that processes a text file and uses a set to collect all words starting with a given letter. Then use it to find all words starting wit the capital letter \"P\" in the file \"data/sample_text.txt\", and print ten of them."
   ]
  },
  {
   "cell_type": "code",
   "execution_count": null,
   "metadata": {},
   "outputs": [],
   "source": []
  },
  {
   "cell_type": "markdown",
   "metadata": {},
   "source": [
    "### Set intersection"
   ]
  },
  {
   "cell_type": "markdown",
   "metadata": {},
   "source": [
    "Use the previous function and set intersection to find all words starting with capital \"P\" that are present in both files \"data/sample_text.txt\" and \"data/sample_text2.txt\". Also find those that are present in one but not the other."
   ]
  },
  {
   "cell_type": "code",
   "execution_count": null,
   "metadata": {},
   "outputs": [],
   "source": []
  }
 ],
 "metadata": {
  "kernelspec": {
   "display_name": "Python 3",
   "language": "python",
   "name": "python3"
  },
  "language_info": {
   "codemirror_mode": {
    "name": "ipython",
    "version": 3
   },
   "file_extension": ".py",
   "mimetype": "text/x-python",
   "name": "python",
   "nbconvert_exporter": "python",
   "pygments_lexer": "ipython3",
   "version": "3.7.3"
  }
 },
 "nbformat": 4,
 "nbformat_minor": 1
}
