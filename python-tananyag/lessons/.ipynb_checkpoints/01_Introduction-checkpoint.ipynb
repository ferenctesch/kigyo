{
 "cells": [
  {
   "cell_type": "markdown",
   "metadata": {},
   "source": [
    "# Introduction to Jupyter Notebook"
   ]
  },
  {
   "cell_type": "markdown",
   "metadata": {},
   "source": [
    "## Technical info"
   ]
  },
  {
   "cell_type": "markdown",
   "metadata": {},
   "source": [
    "- The syllabus of the course and all material is available on [Coospace](https://training360.com/CooSpace/Scene-106)"
   ]
  },
  {
   "cell_type": "markdown",
   "metadata": {},
   "source": [
    "## Software requirements\n",
    "\n",
    "- Anaconda Python 3.x distribution: https://www.anaconda.com/distribution/\n",
    "- PyCharm Community Edition: https://www.jetbrains.com/pycharm/download"
   ]
  },
  {
   "cell_type": "markdown",
   "metadata": {},
   "source": [
    "## What is Jupyter Notebook?"
   ]
  },
  {
   "cell_type": "markdown",
   "metadata": {},
   "source": [
    "The Jupyter Notebook is an open-source web application that allows you to create and share documents that contain live code, equations, visualizations and narrative text. Uses include: data cleaning and transformation, numerical simulation, statistical modeling, data visualization, machine learning, and much more.\n",
    "\n",
    "Jupyter notebooks contain formatted text and sample code, organized in cells. All cells can be of three types:\n",
    "\n",
    "1. markdown: text cells formatted using Markdown,\n",
    "1. code: actual source code cells,\n",
    "1. raw: plain text cells.\n",
    "\n",
    "Jupyter supports many languages other than Python and offers many ways of displaying images and graphs, but we'll not take advantage of this in this course."
   ]
  },
  {
   "cell_type": "markdown",
   "metadata": {},
   "source": [
    "Jupyter notebooks have the extension .ipynb and can be loaded by a Jupyter server running locally or on a remote machine. In this course we shall install Jupyter on our machines and run notebooks locally."
   ]
  },
  {
   "cell_type": "markdown",
   "metadata": {},
   "source": [
    "### Edit mode and command mode"
   ]
  },
  {
   "cell_type": "markdown",
   "metadata": {},
   "source": [
    "You can operate on one or more cells at a time. There are two operation modes:\n",
    "\n",
    "1. Edit mode: text editing in a single cell. The cell being edited is marked green.\n",
    "2. Command mode: perform non-edit operations on the notebook (e.g. insert, delete, move cells, change cell types). The selected cells are marked blue.\n",
    "\n",
    "You can switch between the two modes:\n",
    "\n",
    "1. Esc: Edit mode -> Command mode\n",
    "2. Enter or double-click: Command mode -> Edit mode\n",
    "\n",
    "You can navigate between the cells of a notebook with the arrow keys and use keyboard shortcuts for editing and also for running code in cells. Keyboard shortcuts are displayed if you press \"h\" in Command mode."
   ]
  },
  {
   "cell_type": "markdown",
   "metadata": {},
   "source": [
    "### Running cells"
   ]
  },
  {
   "cell_type": "markdown",
   "metadata": {},
   "source": [
    "Code cells can be run by pressing Ctrl-Enter. In command mode, the shortcuts \"b\" and \"a\" will insert new cells aboe or below the current cell. Cell type can be changed using the letters \"m\" for markup, \"y\" for code, and \"r\" for raw."
   ]
  },
  {
   "cell_type": "markdown",
   "metadata": {},
   "source": [
    "Notebooks are auto-saved periodically. Their contents can be exported as HTML, PDF, python source code using the File menu. The home screen of Jupyter provides a view of the filesystem, where you can navigate to existing notebooks or create new ones."
   ]
  },
  {
   "cell_type": "markdown",
   "metadata": {},
   "source": [
    "Code cells also offer tab completion: pressing tab after typing the first part of a command or variable name will complete that word or offer options."
   ]
  },
  {
   "cell_type": "code",
   "execution_count": 1,
   "metadata": {},
   "outputs": [
    {
     "name": "stdout",
     "output_type": "stream",
     "text": [
      "7\n"
     ]
    }
   ],
   "source": [
    "print(3 + 4)"
   ]
  },
  {
   "cell_type": "markdown",
   "metadata": {},
   "source": [
    "### Under the hood\n",
    "\n",
    "All cells share the same namespace, so defining a variable in one cell will be available in every consecutive cell. More precisely, it will be available in every cell run after it.\n",
    "\n",
    "Let's try to print a variable:"
   ]
  },
  {
   "cell_type": "code",
   "execution_count": 2,
   "metadata": {},
   "outputs": [
    {
     "ename": "NameError",
     "evalue": "name 'x' is not defined",
     "output_type": "error",
     "traceback": [
      "\u001b[1;31m---------------------------------------------------------------------------\u001b[0m",
      "\u001b[1;31mNameError\u001b[0m                                 Traceback (most recent call last)",
      "\u001b[1;32m<ipython-input-2-fc17d851ef81>\u001b[0m in \u001b[0;36m<module>\u001b[1;34m\u001b[0m\n\u001b[1;32m----> 1\u001b[1;33m \u001b[0mprint\u001b[0m\u001b[1;33m(\u001b[0m\u001b[0mx\u001b[0m\u001b[1;33m)\u001b[0m\u001b[1;33m\u001b[0m\u001b[1;33m\u001b[0m\u001b[0m\n\u001b[0m",
      "\u001b[1;31mNameError\u001b[0m: name 'x' is not defined"
     ]
    }
   ],
   "source": [
    "print(x)"
   ]
  },
  {
   "cell_type": "code",
   "execution_count": 3,
   "metadata": {},
   "outputs": [
    {
     "name": "stdout",
     "output_type": "stream",
     "text": [
      "2\n"
     ]
    }
   ],
   "source": [
    "x = 2\n",
    "print(x)"
   ]
  },
  {
   "cell_type": "markdown",
   "metadata": {},
   "source": [
    "Now insert a cell above the last cell and try using `x` in it.\n",
    "\n",
    "Hit Kernel->Restart & Run All. You should get a NameError at this point, since `x` is not defined."
   ]
  },
  {
   "cell_type": "markdown",
   "metadata": {},
   "source": [
    "### Jupyter extensions\n",
    "\n",
    "There is a third-party collection of extensions that add functionality to Jupyter. It is worth looking around the long list of extensions [here](https://github.com/ipython-contrib/jupyter_contrib_nbextensions).\n",
    "\n",
    "If you are used to Vim's navigation, I recommend trying the [vim binding extension](https://github.com/lambdalisue/jupyter-vim-binding)."
   ]
  },
  {
   "cell_type": "markdown",
   "metadata": {},
   "source": [
    "## Exercises\n",
    "\n",
    "1. Create a new notebook named MyFirstNotebook.\n",
    "1. Press \"h\" in edit mode and read the list of Keyboard shortcuts.\n",
    "1. Add a markdown cell and create a heading (start with #) \"Days of the week\".\n",
    "1. Create a cell for each day of the week.\n",
    "1. Change the type of Tuesday's and Thursday's cell to code cells and modify the content to print out the days with Python code.\n",
    "1. Run the code cells individually.\n",
    "1. Restart the kernel running all of the code cells.\n"
   ]
  },
  {
   "cell_type": "markdown",
   "metadata": {},
   "source": [
    "## What's Python?\n",
    "\n",
    "Python is a programming language. Unlike human languages, programming languages have much stricter grammar rules so that they are unambiguous and easy to process by computers. Programs written in a programming language are executed in two different ways, depending on the programming language we use. Python is a so-called interpreted language. It means that no executable file (like an EXE file you can just double-click on) is generated but the programs are kept in source code format and for every execution, we are going to call the **Python interpreter**. The interpreter is the program that understand Python source code and can make it run. Under the hood, Jupyter Notebook also uses the interpreter."
   ]
  },
  {
   "cell_type": "markdown",
   "metadata": {},
   "source": [
    "### Running the interpreter interactively\n",
    "\n",
    "Open the Anaconda prompt and type in _python_. This is going to start the interpreter. You can type **statements** and **expressions** line by line. Discuss with the mentor what is the difference! When you type in a statement, it is executed by the interpreter. When you type in an expression that is evaluated by the interpreter and its value is printed out."
   ]
  },
  {
   "cell_type": "markdown",
   "metadata": {},
   "source": [
    "When you want to store the value of an expression, you can save it for later use by assigning it to a **variable**. Variables are **references** in Python, that means, you can think of them as bookmarks that point to a certain value in the memory. Variables do not have to be declared explicitly, they are just created when you assign a value to a name of your choice. Also, their type is not fixed, you can reassign the name later to point to a value of a different type. Experiment by creating some variables and print out their value."
   ]
  },
  {
   "cell_type": "markdown",
   "metadata": {},
   "source": [
    "### Running a program with interpreter"
   ]
  },
  {
   "cell_type": "markdown",
   "metadata": {},
   "source": [
    "Now you are running program code line by line but in real life, you usually create a complete program first and then you execute it with the help of the interpreter. With the help of the mentor, create and execute a simple hello world program that asks for the user's name and prints out a customized greeting. Python programs are saved to files with a _.py_ extension, for example _hello.py_. To execute this program, you will have to specify its path after the _python_ command in the command-line."
   ]
  },
  {
   "cell_type": "markdown",
   "metadata": {},
   "source": [
    "### Running an IDE"
   ]
  },
  {
   "cell_type": "markdown",
   "metadata": {},
   "source": [
    "You can create Python program with any editor that is capable of saving plain text, such as Notepad. However, there are more specialized programs that help you developing Python programs. We call these integrated development environments or shortly just IDEs. These provide convenience features, for example:\n",
    "\n",
    "- Syntax highlighting: the program code is formatted with colors so that you can better and more easily understand it\n",
    "- Proposals: when you are typing in program code, the IDE suggests possible valid statements that you can type there. It helps you by not having to type so much and by reminding you some function names you do not know by memory.\n",
    "- Showing errors and warnings: when something is erroneous or potentially problematic, the IDE highlights those parts of the code.\n",
    "- Quick fixes: Sometimes there is also a suggested fix that can easily be applied by some clicks.\n",
    "- Running the program: you do not have to manually run the interpreter from command-line but you can just executed the program by a simple mouse click.\n",
    "\n",
    "Explore the PyCharm IDE with the mentor. Create the hello world program again, and run it from the IDE!"
   ]
  }
 ],
 "metadata": {
  "kernelspec": {
   "display_name": "Python 3",
   "language": "python",
   "name": "python3"
  },
  "language_info": {
   "codemirror_mode": {
    "name": "ipython",
    "version": 3
   },
   "file_extension": ".py",
   "mimetype": "text/x-python",
   "name": "python",
   "nbconvert_exporter": "python",
   "pygments_lexer": "ipython3",
   "version": "3.7.3"
  }
 },
 "nbformat": 4,
 "nbformat_minor": 1
}
