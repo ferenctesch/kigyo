{
 "cells": [
  {
   "cell_type": "markdown",
   "metadata": {
    "collapsed": true
   },
   "source": [
    "# Python Basics\n",
    "\n",
    "[Syntax basics](#syntax-basics)\n",
    "\n",
    "[Control structures](#control-structures)\n",
    "\n",
    "[Basic I/O handling](#basic-io)\n",
    "\n",
    "[Simple example scripts](#simple-scripts)\n",
    "\n",
    "[Error handling, exceptions](#exceptions)\n",
    "\n",
    "[Zen of Python, code readability, conventions](#zen-of-python)"
   ]
  },
  {
   "cell_type": "markdown",
   "metadata": {},
   "source": [
    "## Syntax basics \n",
    "<a id='syntax-basics'></a>"
   ]
  },
  {
   "cell_type": "markdown",
   "metadata": {},
   "source": [
    "The most common built-in __types__ in Python include _int_, _float_, _str_ (for strings), _bool_ (for the boolean values True and False). We will also cover lists (_list_, known in many languages as arrays), dictionaries (_dict_, similar to associative arrays in other languages), and tuples (_tuple_, non-mutable sequences). The following lines are __literals__ (literal representations) of an instance of each of these types."
   ]
  },
  {
   "cell_type": "code",
   "execution_count": null,
   "metadata": {},
   "outputs": [],
   "source": [
    "5  # int from number class # by tesch\n",
    "3.14  # float from number class  the number can be infinitiv # by tesch\n",
    "\"foot\"  # string\n",
    "True  # boolean\n",
    "[1, \"bar\", 3, 4.0]  # list\n",
    "l = [1, \"bar\", 3, 4.0] # by tesch lista kap egy címkét\n",
    "print(id(l))           # by tesch mem address\n",
    "l.append(98)           # by tesch new value\n",
    "print(id(l))           # by tesch\n",
    "print(l)               # by tesch\n",
    "{\"foot\": 1, \"bar\": 2}  # dictionary\n",
    "(2, 'foobar')  # tuple  # by TF egynel több bármilyen értéke van.\n",
    "def teljesnev():\n",
    "    return ('Jóska', 'Pista')\n",
    "\n",
    "teljesnev()"
   ]
  },
  {
   "cell_type": "markdown",
   "metadata": {},
   "source": [
    "Python __variables__ are assigned values using __assignment statements__, which contain a variable name, the \"=\" character, and a literal. Variables need not be declared, they are created the first time a value is assigned to them. Variable names must start with a letter or an underscore (\\_), may contain only letters, numbers, and underscores, and may not coincide with any of the Python __keywords__ such as _if_, _for_, _def_, etc. Python is dinamically typed language, which means that the type of the variables can only be determined when the program is actually executed. From another point of view, this means that the type of a certain variable is not fixed, the variable can be reassigned to a different type later."
   ]
  },
  {
   "cell_type": "code",
   "execution_count": null,
   "metadata": {},
   "outputs": [],
   "source": [
    "my_int = 5\n",
    "some_float = 3.14\n",
    "random_string = \"foo\"\n",
    "random_string2 = True\n",
    "print(my_int,random_string)\n",
    "#print('ezek az értékek: ' + my_int + random_string)\n",
    "print(len(random_string),'hosszú',random_string)\n",
    "print('\"ez háromszor\" {}'.format(random_string * 3))\n",
    "print(f'\"format char \"f\" ez meg egy\" {random_string}')    # format char 'f'\n",
    "print(f'ez hát egy 2 x {random_string} = {random_string * 3}')    # format chah {}-ban lévőt értékeli ki (3* ír ki)\n",
    "print('egy' + 'ketto' + 'harom')  # ne csináld, mert felülírja a mem címet\n",
    "print('number to string példák: ' + f'{my_int}' + ' ' + str(my_int)) # number to string példák"
   ]
  },
  {
   "cell_type": "markdown",
   "metadata": {},
   "source": [
    "The type of an object is returned by the _type_ function:"
   ]
  },
  {
   "cell_type": "code",
   "execution_count": null,
   "metadata": {},
   "outputs": [],
   "source": [
    "1,2,3\n",
    "def hello():\n",
    "    \"\"\"# hello-t mond így dokumentálj\n",
    "    \"\"\"\n",
    "    return 'Helló'\n",
    "hello()\n",
    "help(hello)"
   ]
  },
  {
   "cell_type": "code",
   "execution_count": null,
   "metadata": {},
   "outputs": [],
   "source": [
    "type(my_int), type(some_float), type(random_string)"
   ]
  },
  {
   "cell_type": "markdown",
   "metadata": {},
   "source": [
    "Type names are also constructors of the given class; when called as functions, they will return an instance of the type with a default value:"
   ]
  },
  {
   "cell_type": "code",
   "execution_count": 294,
   "metadata": {},
   "outputs": [
    {
     "data": {
      "text/plain": [
       "(0, 0.0, '', False, [], {}, ())"
      ]
     },
     "execution_count": 294,
     "metadata": {},
     "output_type": "execute_result"
    }
   ],
   "source": [
    "int(), float(), str(), bool(), list(), dict(), tuple()"
   ]
  },
  {
   "cell_type": "markdown",
   "metadata": {},
   "source": [
    "Ints and floats can be used in standard arithmetic operations."
   ]
  },
  {
   "cell_type": "code",
   "execution_count": null,
   "metadata": {},
   "outputs": [],
   "source": [
    "3 + 5  # addition\n",
    "i=1\n",
    "i+=2   # plus 2\n",
    "i + 1  # plus 1\n",
    "\n"
   ]
  },
  {
   "cell_type": "code",
   "execution_count": null,
   "metadata": {},
   "outputs": [],
   "source": [
    "3 - 5  # substraction"
   ]
  },
  {
   "cell_type": "code",
   "execution_count": null,
   "metadata": {},
   "outputs": [],
   "source": [
    "3 * 5  # multiplication"
   ]
  },
  {
   "cell_type": "code",
   "execution_count": null,
   "metadata": {},
   "outputs": [],
   "source": [
    "7 // 3  # floor division egész"
   ]
  },
  {
   "cell_type": "code",
   "execution_count": null,
   "metadata": {},
   "outputs": [],
   "source": [
    "7 % 3 # remainder  maradék"
   ]
  },
  {
   "cell_type": "code",
   "execution_count": null,
   "metadata": {},
   "outputs": [],
   "source": [
    "3 / 5  # division"
   ]
  },
  {
   "cell_type": "code",
   "execution_count": null,
   "metadata": {},
   "outputs": [],
   "source": [
    "3 ** 3  # nth power"
   ]
  },
  {
   "cell_type": "code",
   "execution_count": null,
   "metadata": {},
   "outputs": [],
   "source": [
    "9 ** 0.5 # square root"
   ]
  },
  {
   "cell_type": "markdown",
   "metadata": {},
   "source": [
    "Comparing values will yield boolean values:"
   ]
  },
  {
   "cell_type": "code",
   "execution_count": null,
   "metadata": {},
   "outputs": [],
   "source": [
    "3 == 5"
   ]
  },
  {
   "cell_type": "code",
   "execution_count": null,
   "metadata": {},
   "outputs": [],
   "source": [
    "3 < 5"
   ]
  },
  {
   "cell_type": "code",
   "execution_count": null,
   "metadata": {},
   "outputs": [],
   "source": [
    "3 <= 5"
   ]
  },
  {
   "cell_type": "code",
   "execution_count": null,
   "metadata": {},
   "outputs": [],
   "source": [
    "3 > 5"
   ]
  },
  {
   "cell_type": "code",
   "execution_count": null,
   "metadata": {},
   "outputs": [],
   "source": [
    "\"foo\" == \"bar\""
   ]
  },
  {
   "cell_type": "code",
   "execution_count": null,
   "metadata": {},
   "outputs": [],
   "source": [
    "\"abc\" == \"abc\"\n",
    "a = 'hello'\n",
    "b = 'hello'\n",
    "c = '\\n hello \\n hello'\n",
    "print(id(a), id(b), c)"
   ]
  },
  {
   "cell_type": "markdown",
   "metadata": {},
   "source": [
    "## Control structures (if-else, while, for)\n",
    "<a id='control-structures'></a>"
   ]
  },
  {
   "cell_type": "markdown",
   "metadata": {},
   "source": [
    "### If, elif, else"
   ]
  },
  {
   "cell_type": "markdown",
   "metadata": {},
   "source": [
    "__if statements__ allow for the simplest kind of flow control. The first line of the statement contains the keyword __if__, followed by any expression that can be typecast to a boolean value. The first line of the __if__ statement is terminated by a colon (:) and is followed by an indented block, which is executed only if the condition evaluates to True:"
   ]
  },
  {
   "cell_type": "code",
   "execution_count": null,
   "metadata": {},
   "outputs": [],
   "source": [
    "x = 11\n",
    "y = 11"
   ]
  },
  {
   "cell_type": "code",
   "execution_count": null,
   "metadata": {},
   "outputs": [],
   "source": [
    "if x < y:\n",
    "    print(\"x is smaller than y\")"
   ]
  },
  {
   "cell_type": "markdown",
   "metadata": {},
   "source": [
    "If statements may be followed by an arbitrary number of __elif__ statements, which are only checked if all previous conditions are False:"
   ]
  },
  {
   "cell_type": "code",
   "execution_count": null,
   "metadata": {},
   "outputs": [],
   "source": [
    "if x < y:\n",
    "    print(\"x is smaller than y\")\n",
    "elif x > y:\n",
    "    print(\"x is larger than y\")"
   ]
  },
  {
   "cell_type": "markdown",
   "metadata": {},
   "source": [
    "The if-structure may be concluded by the __else__ keyword, followed by a block of code to be executed if and only if no previous conditions are True:"
   ]
  },
  {
   "cell_type": "code",
   "execution_count": null,
   "metadata": {},
   "outputs": [],
   "source": [
    "if x < y:\n",
    "    print(\"x is smaller than y\")\n",
    "elif x > y:\n",
    "    print(\"x is larger than y\")\n",
    "else:\n",
    "    print(\"x equals y\")"
   ]
  },
  {
   "cell_type": "markdown",
   "metadata": {},
   "source": [
    "### while loops"
   ]
  },
  {
   "cell_type": "markdown",
   "metadata": {},
   "source": [
    "__while__ loops are used when a block of code is to be executed over and over until some condition becomes False. This example implements division with remainders using a while loop:"
   ]
  },
  {
   "cell_type": "code",
   "execution_count": null,
   "metadata": {},
   "outputs": [],
   "source": [
    "x = 7\n",
    "y = 79\n",
    "remainder = y\n",
    "quotient = 0\n",
    "while x <= remainder:\n",
    "    remainder -= x\n",
    "    quotient += 1\n",
    "    print(quotient, remainder)\n",
    "\n",
    "print(y, \" = \", quotient, \"x\", x, \"+\", remainder)"
   ]
  },
  {
   "cell_type": "markdown",
   "metadata": {
    "collapsed": true
   },
   "source": [
    "while loops may also be interrupted with the __break__ keyword. Below is an alternative version of the above example that uses break. Note that here the condition of the while loop is the boolean literal True, ensuring that the loop will always restart."
   ]
  },
  {
   "cell_type": "code",
   "execution_count": null,
   "metadata": {},
   "outputs": [],
   "source": [
    "#while True:\n",
    "time"
   ]
  },
  {
   "cell_type": "code",
   "execution_count": null,
   "metadata": {},
   "outputs": [],
   "source": [
    "x = 7\n",
    "y = 79\n",
    "remainder = y\n",
    "quotient = 0\n",
    "while True:\n",
    "    remainder -= x\n",
    "    quotient += 1\n",
    "    if x > remainder:\n",
    "        break\n",
    "\n",
    "print(y, \" = \", quotient, \"x\", x, \"+\", remainder)"
   ]
  },
  {
   "cell_type": "markdown",
   "metadata": {},
   "source": [
    "Another keyword that may be used inside while loops is __continue__. This instructs Python to skip the rest of the _current iteration_ of the loop and proceed with the next. The example below using __continue__ will print all positive integers below 100 that are divisible by 13:"
   ]
  },
  {
   "cell_type": "code",
   "execution_count": null,
   "metadata": {},
   "outputs": [],
   "source": [
    "n = 0\n",
    "while n < 100:\n",
    "    n += 1\n",
    "    if n % 17 != 0:\n",
    "        continue\n",
    "    print(n)    "
   ]
  },
  {
   "cell_type": "markdown",
   "metadata": {},
   "source": [
    "### for loops"
   ]
  },
  {
   "cell_type": "code",
   "execution_count": null,
   "metadata": {},
   "outputs": [],
   "source": [
    "szamok = [1, 2, 3, 4, 5, 6, 7, 8, 9, 10, 11, 12.2, 12, 13, 14, 13.5]\n",
    "def paros(szam):\n",
    "    \"\"\" true, ha paros a 'szam' vagy false\"\"\"\n",
    "    return szam % 2 ==0\n",
    "def paratlan(szam):\n",
    "    \"\"\" true, ha paratlan a 'szam' vagy false\"\"\"\n",
    "    return szam % 2 !=0\n",
    "print(paratlan(12.2), 12.2 % 2)\n",
    "def paros_szamsor(szamok):\n",
    "    \"\"\"csak páros számokkal tér vissza\n",
    "    parameter: számlista\n",
    "    kimenet: páros számlista\"\"\"\n",
    "    pszamok = []\n",
    "    ptlszamok = []\n",
    "    vegyes = []  \n",
    "    for szam in szamok:\n",
    "        if paros(szam):\n",
    "            pszamok.append(szam)\n",
    "        elif paratlan(szam):\n",
    "            ptlszamok.append(szam)\n",
    "        else:\n",
    "            vegyes.append(szam)\n",
    "            \n",
    "    return pszamok, ptlszamok, vegyes\n",
    "        \n",
    "print(paros_szamsor(szamok))\n",
    "\n",
    "help(paros_szamsor)"
   ]
  },
  {
   "cell_type": "markdown",
   "metadata": {},
   "source": [
    "__for__ loops are used to iterate over all elements of a sequence (e.g. a list, a string, keys of a dictionary, etc.). The example below prints all letters of the string \"Hello World\":"
   ]
  },
  {
   "cell_type": "code",
   "execution_count": null,
   "metadata": {},
   "outputs": [],
   "source": [
    "for letter in \"Hello World!\":   # csak egy mem címbe ír!!!\n",
    "    print(letter, id(letter))"
   ]
  },
  {
   "cell_type": "markdown",
   "metadata": {},
   "source": [
    "__break__ and __continue__ may be used inside for loops and have the same effect as in the case of while loops. The following for loop will iterate over a list, skip all elements that are not strings, print the rest, and stop when it encounters \"giraffe\":"
   ]
  },
  {
   "cell_type": "code",
   "execution_count": null,
   "metadata": {},
   "outputs": [],
   "source": [
    "my_list = [3, 2.8, \"penguin\", \"Kakas\", True, \"giraffe\", 25, [3, 4], \"bear\"]\n",
    "for item in my_list:\n",
    "    if type(item) != str:\n",
    "        continue\n",
    "    print(item)\n",
    "    if item == \"giraffe\":\n",
    "        break"
   ]
  },
  {
   "cell_type": "code",
   "execution_count": null,
   "metadata": {},
   "outputs": [],
   "source": [
    "nevek = {'Kati' : 'Alföldi', 'Andi' : 'Pesti', 'Sanyi' : 'Budai'}\n",
    "print(\"nevek: \",nevek)\n",
    "\n",
    "type(nevek)\n",
    "\n",
    "print(nevek.items())\n",
    "\n",
    "for nev in nevek:\n",
    "    print(nev)\n",
    "\n",
    "for key, value in nevek.items():\n",
    "    print(f'{key}:{value}' + \" !\")\n",
    "    print(f'{value}:{key}' + \" fordít\")"
   ]
  },
  {
   "cell_type": "markdown",
   "metadata": {},
   "source": [
    "The __range__ function can be used to generate a sequence of integers that can be iterated over. Given a single int argument n, __range__ creates an iterator over the first n numbers:"
   ]
  },
  {
   "cell_type": "code",
   "execution_count": null,
   "metadata": {},
   "outputs": [],
   "source": [
    "for n in range(5):\n",
    "    print(n)"
   ]
  },
  {
   "cell_type": "markdown",
   "metadata": {},
   "source": [
    "All kinds of numberings in Python start with zero (including e.g. the indexing of lists, to be discussed in Chapter 4), range(5) can therefore also be interpreted as \"integers up to but _not including_ n. Analogously, when two numbers m and n are passed to the range function, the resulting object will iterate over integers between m and _n-1_. Accordingly, the example below will print the double of each integer between 10 and 15:"
   ]
  },
  {
   "cell_type": "code",
   "execution_count": null,
   "metadata": {},
   "outputs": [],
   "source": [
    "for i in range(10, 16):\n",
    "    print(2 * i)"
   ]
  },
  {
   "cell_type": "markdown",
   "metadata": {},
   "source": [
    "In most other programming languages, there are two versions of the for loop. The traditional for increments a counter and runs until a given condition is true. The so-called for-each iterates over the elements of a sequence type. Python's for loop is equivalent to the for-each loop of other languages but the traditional for loop can be emulated with the help of range()."
   ]
  },
  {
   "cell_type": "markdown",
   "metadata": {},
   "source": [
    "## Basic I/O handling\n",
    "<a id='basic-io'></a>"
   ]
  },
  {
   "cell_type": "markdown",
   "metadata": {},
   "source": [
    "By default, the **print** function will write string representations of its arguments to standard output. Also, it automatically appends a line break after each call. The explicit way of writing to stdout or stderr is via the __sys__ module. This is relevant for programmerts, who write scripts in Linux environment, where the normal output and the error messages are separated and written to two different streams. This does not append a line break, it must be done manuall:"
   ]
  },
  {
   "cell_type": "code",
   "execution_count": null,
   "metadata": {},
   "outputs": [],
   "source": [
    "help(sys)"
   ]
  },
  {
   "cell_type": "code",
   "execution_count": null,
   "metadata": {},
   "outputs": [],
   "source": [
    "import sys\n",
    "sys.stdout.write(\"Hello World\\n\")  # note the newline character \\n\""
   ]
  },
  {
   "cell_type": "code",
   "execution_count": null,
   "metadata": {},
   "outputs": [],
   "source": [
    "sys.stderr.write(\"Sorry, World\\n\")"
   ]
  },
  {
   "cell_type": "markdown",
   "metadata": {},
   "source": [
    "To read and write files on the system, files must be __open__ed to create file objects which implement methods for reading and writing. Below are examples of the two most common operations:"
   ]
  },
  {
   "cell_type": "code",
   "execution_count": null,
   "metadata": {},
   "outputs": [],
   "source": [
    "# open the file for writing and store the resulting file object\n",
    "# CAUTION: this'll overwrite the file if it exists)\n",
    "f = open('foo.txt', 'w')\n",
    "\n",
    "print(type(f))\n",
    "\n",
    "# write strings to the file object\n",
    "f.write('Penguins are cute!\\n')\n",
    "f.write('So are giraffes!\\n')\n",
    "f.write('I am here!\\n')\n",
    "\n",
    "# close the file\n",
    "f.close()"
   ]
  },
  {
   "cell_type": "code",
   "execution_count": 295,
   "metadata": {},
   "outputs": [
    {
     "name": "stdout",
     "output_type": "stream",
     "text": [
      "Penguins are cute!\n",
      "So are giraffes!\n",
      "I am here!\n",
      "\n"
     ]
    }
   ],
   "source": [
    "# open the file for reading\n",
    "f = open('foo.txt', 'r')\n",
    "\n",
    "# read the file contents into a single string\n",
    "\n",
    "content = f.read()  # a teljes tartalmat felolvassa !!!\n",
    "\n",
    "# close the file\n",
    "f.close()\n",
    "\n",
    "print(content)"
   ]
  },
  {
   "cell_type": "markdown",
   "metadata": {},
   "source": [
    "It is usually more convenient to process file contents one line at a time. The __readlines__ method of file objects returns all lines of a file in a list:"
   ]
  },
  {
   "cell_type": "code",
   "execution_count": null,
   "metadata": {},
   "outputs": [],
   "source": [
    "f = open('foo.txt', 'r')\n",
    "print(f.readlines())       # a teljes tartalmat felolvassa !!!"
   ]
  },
  {
   "cell_type": "markdown",
   "metadata": {},
   "source": [
    "One can also iterate over a file object, e.g. with a for loop, to process its contents by line:"
   ]
  },
  {
   "cell_type": "code",
   "execution_count": null,
   "metadata": {},
   "outputs": [],
   "source": [
    "f = open('foo.txt', 'r')\n",
    "for line in f:            # soronként olvas\n",
    "    print(line)"
   ]
  },
  {
   "cell_type": "markdown",
   "metadata": {},
   "source": [
    "The print function adds newlines to each string it prints, but these lines already had them, hence the empty lines after each. The strip function of strings can remove all whitespace from the beginning and end of a string."
   ]
  },
  {
   "cell_type": "code",
   "execution_count": null,
   "metadata": {},
   "outputs": [],
   "source": [
    "f = open('foo.txt', 'r')\n",
    "for line in f:\n",
    "    print(line.strip())"
   ]
  },
  {
   "cell_type": "markdown",
   "metadata": {},
   "source": [
    "## Simple example scripts\n",
    "<a id='simple-scripts'></a>"
   ]
  },
  {
   "cell_type": "markdown",
   "metadata": {},
   "source": [
    "We are now ready to create smaller Python scripts that perform simple tasks. Scripts are simple programs without a graphical user interface.  They are usually run in command-line and help us automatizing some tasks. Let's look at a few examples."
   ]
  },
  {
   "cell_type": "markdown",
   "metadata": {},
   "source": [
    "Let's add line numbering to a text file:"
   ]
  },
  {
   "cell_type": "code",
   "execution_count": null,
   "metadata": {},
   "outputs": [],
   "source": [
    "txt_file = open('data/lamb.txt')\n",
    "out_file = open('data/lamb_numbered.txt', 'w')\n",
    "line_counter = 0\n",
    "for line in txt_file:\n",
    "    line_counter += 1\n",
    "    out_file.write(str(line_counter) + '\\t' + line)  # write to file  {strip() törli a \\n -t}\n",
    "    print(str(line_counter) + '\\t' + line.strip())   # write to stdout \n",
    "txt_file.close()\n",
    "out_file.close()"
   ]
  },
  {
   "cell_type": "markdown",
   "metadata": {},
   "source": [
    "Let's find lines that end with a dot. Some lines have spaces at the end and we want to ignore these spaces. The _strip()_ method of strings cuts whitespaces from the beginning and end of the string and returns the new value. We should first perform this and only then check for the last character. Strings can be indexed, such as text\\[0\\], text\\[1\\] and so on. Since indexing starts from zero, the last character's index will be one less than the length of the string: _len(text) - 1_. Python also supports indexing from backwards with negative numbers so we can also use -1 as the index. The complete solution:"
   ]
  },
  {
   "cell_type": "code",
   "execution_count": null,
   "metadata": {},
   "outputs": [],
   "source": [
    "txt_file = open('data/lamb.txt')\n",
    "for line in txt_file:\n",
    "    line = line.strip()\n",
    "    if line == \"\":\n",
    "        continue\n",
    "    if line[-1] == \".\":\n",
    "        print(line)\n",
    "txt_file.close()"
   ]
  },
  {
   "cell_type": "markdown",
   "metadata": {},
   "source": [
    "Let's convert a csv file to tsv:"
   ]
  },
  {
   "cell_type": "code",
   "execution_count": null,
   "metadata": {},
   "outputs": [],
   "source": [
    "csv_file = open('data/animals.csv', 'r')\n",
    "tsv_file = open('data/animals.tsv', 'w')\n",
    "for line in csv_file:\n",
    "     for character in line:\n",
    "        if character == ',':\n",
    "            out_char = '\\t'\n",
    "        else:\n",
    "            out_char = character\n",
    "        tsv_file.write(out_char)\n",
    "\n",
    "csv_file.close()\n",
    "tsv_file.close()"
   ]
  },
  {
   "cell_type": "markdown",
   "metadata": {},
   "source": [
    "Let's solve second order equations!"
   ]
  },
  {
   "cell_type": "code",
   "execution_count": null,
   "metadata": {},
   "outputs": [],
   "source": [
    "# x^2 + 2a + 1 = 0\n",
    "a, b, c = 1, 2, 1\n",
    "\n",
    "d = (b**2 - 4*a*c)\n",
    "if d < 0:\n",
    "    print('no real solutions :(')\n",
    "elif d == 0:\n",
    "    print(-b/(2*a))\n",
    "else:\n",
    "    x1 = (-b + d**0.5) / (2*a)\n",
    "    x2 = (-b - d**0.5) / (2*a)\n",
    "    print(x1, x2)"
   ]
  },
  {
   "cell_type": "markdown",
   "metadata": {},
   "source": [
    "When building a stand-alone python script, some extra elements are required. Scripts should start with a so-called __shebang__ statement, instructing UNIX-like operating systems on which program to use to interpret the script. Shebang statements start with the sequence \"#!\":"
   ]
  },
  {
   "cell_type": "code",
   "execution_count": null,
   "metadata": {},
   "outputs": [],
   "source": [
    "#!/usr/bin/python"
   ]
  },
  {
   "cell_type": "markdown",
   "metadata": {},
   "source": [
    "Another, more flexible shebang statement would be the following:"
   ]
  },
  {
   "cell_type": "code",
   "execution_count": null,
   "metadata": {},
   "outputs": [],
   "source": [
    "#!/usr/bin/env python"
   ]
  },
  {
   "cell_type": "markdown",
   "metadata": {},
   "source": [
    "This one ensures that the OS picks the python version that is the default on the system."
   ]
  },
  {
   "cell_type": "markdown",
   "metadata": {},
   "source": [
    "## Error handling, exceptions\n",
    "<a id='exceptions'></a>"
   ]
  },
  {
   "cell_type": "markdown",
   "metadata": {},
   "source": [
    "__Exception__ is the \"official\" term for _error_ in many programming languages, including Python. Normally when an error occurs, the interpreter displays the exception causing the error (along with a __traceback__ showing where the exception originated and how it was passed through functions) and terminates. Using __try-except__ clauses we may instruct Python to handle certain types of exceptions."
   ]
  },
  {
   "cell_type": "markdown",
   "metadata": {},
   "source": [
    "The following code sample iterates through a list and converts all elements to float. If it encounters an element that cannot be converted, an error occurs:"
   ]
  },
  {
   "cell_type": "code",
   "execution_count": null,
   "metadata": {},
   "outputs": [],
   "source": [
    "l = [3, \"12.2\", 4.2, \"penguin\", \"3.14\", \"0\", -2]\n",
    "for element in l:\n",
    "    print(float(element))"
   ]
  },
  {
   "cell_type": "markdown",
   "metadata": {},
   "source": [
    "We may add a try-except clause to handle exceptions of the type _ValueError_:"
   ]
  },
  {
   "cell_type": "code",
   "execution_count": null,
   "metadata": {},
   "outputs": [],
   "source": [
    "l = [3, \"12.2\", 4.2, \"penguin\", \"3.14\", \"0\", -2]\n",
    "for element in l:\n",
    "    try:\n",
    "        print(float(element))\n",
    "    except ValueError:\n",
    "        print(\"WTF???\")"
   ]
  },
  {
   "cell_type": "markdown",
   "metadata": {},
   "source": [
    "When more than one exception class needs handling, they may be listed in the except clause inside a tuple:"
   ]
  },
  {
   "cell_type": "code",
   "execution_count": null,
   "metadata": {},
   "outputs": [],
   "source": [
    "l = [3, \"12.2\", 4.2, \"penguin\", \"3.14\", \"0\", -2]\n",
    "for element in l:\n",
    "    try:\n",
    "        print(1/float(element))\n",
    "    except (ValueError, ZeroDivisionError):\n",
    "        print(\"### \" + element + \" ### ???\")"
   ]
  },
  {
   "cell_type": "markdown",
   "metadata": {},
   "source": [
    "Or if we need to define separate behaviors for each exception type:"
   ]
  },
  {
   "cell_type": "code",
   "execution_count": null,
   "metadata": {},
   "outputs": [],
   "source": [
    "l = [3, \"12.2\", 4.2, \"penguin\", \"3.14\", \"0\", -2]\n",
    "for element in l:\n",
    "    try:\n",
    "        print(1 / float(element))\n",
    "    except ValueError:\n",
    "        print(\"???\")\n",
    "    except ZeroDivisionError:\n",
    "        print(\"1/0\" + \" >---> ZeroDivisionError\")"
   ]
  },
  {
   "cell_type": "markdown",
   "metadata": {},
   "source": [
    "__except__ may be used without specifying any exception class, in which case it will handle all exceptions. This is strongly discouraged, however, as it is prone to hiding errors that we did not think of."
   ]
  },
  {
   "cell_type": "markdown",
   "metadata": {},
   "source": [
    "An __else__ clause at the end of try statements can specify actions to be taken only if no exception occurred:"
   ]
  },
  {
   "cell_type": "code",
   "execution_count": null,
   "metadata": {},
   "outputs": [],
   "source": [
    "l = [3, \"12.2\", 4.2, \"penguin\", \"3.14\", \"0\", -2]\n",
    "for element in l:\n",
    "    try:\n",
    "        x = float(element)\n",
    "    except ValueError:\n",
    "        print(\"???\")\n",
    "    else:\n",
    "        print(x)"
   ]
  },
  {
   "cell_type": "code",
   "execution_count": null,
   "metadata": {},
   "outputs": [],
   "source": []
  },
  {
   "cell_type": "markdown",
   "metadata": {},
   "source": [
    "You can choose catching the exception silently and not doing anything. However, syntactically it is incorrect to just leave the except block totally empty. You need the **pass** keyword to create an empty block:"
   ]
  },
  {
   "cell_type": "code",
   "execution_count": null,
   "metadata": {},
   "outputs": [],
   "source": [
    "l = [3, \"12.2\", 4.2, \"penguin\", \"3.14\", \"0\", -2]\n",
    "for element in l:\n",
    "    try:\n",
    "        x = float(element)\n",
    "    except ValueError:\n",
    "        pass\n",
    "    else:\n",
    "        print(x)"
   ]
  },
  {
   "cell_type": "markdown",
   "metadata": {},
   "source": [
    "## Zen of Python, code readability, conventions\n",
    "<a id='zen-of-python'></a>"
   ]
  },
  {
   "cell_type": "markdown",
   "metadata": {
    "collapsed": true
   },
   "source": [
    "The Python community documents the proposal and review of new features, modifications, etc. in Python Enhancement Proposals, or PEPs for short. A few PEPs are intended for informational purposes, two of them are especially notable:"
   ]
  },
  {
   "cell_type": "markdown",
   "metadata": {},
   "source": [
    "Code samples presented in this course conform to PEP8 to a very high degree (although probably not perfectly). The most important rules will be mentioned as they arise. When some of these rules are in conflict with an existing codebase, one may turn to an introductory section of PEP8 entitled \"A Foolish Consistency is the Hobgoblin of Little Minds\", which gives general advice such as:\n",
    "\n",
    "* _\"Consistency with this style guide is important. Consistency within a project is more important. Consistency within one module or function is the most important.\"_\n",
    "\n",
    "* _know when to be inconsistent -- sometimes style guide recommendations just aren't applicable_\""
   ]
  },
  {
   "cell_type": "markdown",
   "metadata": {},
   "source": [
    "__PyCharm includes a style-checker and generates warnings when we are not following PEP-8 recommendations.__"
   ]
  },
  {
   "cell_type": "markdown",
   "metadata": {},
   "source": [
    "#### PEP-20"
   ]
  },
  {
   "cell_type": "markdown",
   "metadata": {},
   "source": [
    "Python developers refer to [PEP-20](https://www.python.org/dev/peps/pep-0020/) by its informal title: __The Zen of Python__, a collection of subjective, even poetic statements about general principles of code design in Python. If a certain program code uses well the principles of Python, that code can be called **pythonic**. Programmers that like the pythonic way of programming and use its principles correctly, are **pythonists**."
   ]
  },
  {
   "cell_type": "markdown",
   "metadata": {},
   "source": [
    "The quickest way to read the Zen of Python is by executing the following code:"
   ]
  },
  {
   "cell_type": "code",
   "execution_count": null,
   "metadata": {},
   "outputs": [],
   "source": [
    "import this"
   ]
  },
  {
   "cell_type": "code",
   "execution_count": null,
   "metadata": {},
   "outputs": [],
   "source": []
  }
 ],
 "metadata": {
  "kernelspec": {
   "display_name": "Python 3",
   "language": "python",
   "name": "python3"
  },
  "language_info": {
   "codemirror_mode": {
    "name": "ipython",
    "version": 3
   },
   "file_extension": ".py",
   "mimetype": "text/x-python",
   "name": "python",
   "nbconvert_exporter": "python",
   "pygments_lexer": "ipython3",
   "version": "3.7.3"
  }
 },
 "nbformat": 4,
 "nbformat_minor": 1
}
