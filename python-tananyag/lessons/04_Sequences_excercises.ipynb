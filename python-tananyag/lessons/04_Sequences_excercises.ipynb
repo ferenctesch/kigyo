{
 "cells": [
  {
   "cell_type": "markdown",
   "metadata": {},
   "source": [
    "# Excercises for sequences\n",
    "\n",
    "[Strings](#4.1)\n",
    "\n",
    "[Lists](#4.2)\n",
    "\n",
    "[Dictionaries](#4.3)"
   ]
  },
  {
   "cell_type": "markdown",
   "metadata": {},
   "source": [
    "## Strings\n",
    "<a id='4.1'></a>"
   ]
  },
  {
   "cell_type": "markdown",
   "metadata": {},
   "source": [
    "Define a function that splits a text into sentences (on \".\", \"!\", \"?\", etc.)"
   ]
  },
  {
   "cell_type": "code",
   "execution_count": 10,
   "metadata": {},
   "outputs": [
    {
     "name": "stdout",
     "output_type": "stream",
     "text": [
      "Na mi van.\n",
      "Kész van?\n",
      "Mert mennem kell!!!\n"
     ]
    }
   ],
   "source": [
    "import re\n",
    "tt=\"Na mi van. Kész van? Mert mennem kell!!!\"\n",
    "def splito(s):\n",
    "    return re.split(r'(?<=[^A-Z].[.?]) +(?=[A-Z])', s)\n",
    "\n",
    "m = splito(tt)\n",
    "for i in m:\n",
    "    print(i)"
   ]
  },
  {
   "cell_type": "markdown",
   "metadata": {},
   "source": [
    "Define a function that splits sentences into words, and strips punctuation marks (\",\", \";\", etc.) from edges of words."
   ]
  },
  {
   "cell_type": "code",
   "execution_count": 23,
   "metadata": {},
   "outputs": [
    {
     "name": "stdout",
     "output_type": "stream",
     "text": [
      "Na\n",
      " \n",
      "mi\n",
      " \n",
      "van.\n",
      " \n",
      "Kész\n",
      " \n",
      "van?\n",
      " \n",
      "Mert\n",
      " \n",
      "mennem\n",
      " \n",
      "kell!!!\n"
     ]
    }
   ],
   "source": [
    "import re\n",
    "tt=\"Na mi van. Kész van? Mert mennem kell!!!\"\n",
    "def splito2(s):\n",
    "    return re.split(r'( )', s)\n",
    "\n",
    "m = splito2(tt)\n",
    "for i in m:\n",
    "    print(i)"
   ]
  },
  {
   "cell_type": "markdown",
   "metadata": {},
   "source": [
    "Use the last two functions in one that takes a filename as its argument and returns the text in the file as a list of lists. Test it on the file \"data/sample_text.txt\""
   ]
  },
  {
   "cell_type": "code",
   "execution_count": null,
   "metadata": {},
   "outputs": [],
   "source": []
  },
  {
   "cell_type": "markdown",
   "metadata": {},
   "source": [
    "## Lists\n",
    "<a id='4.2'></a>"
   ]
  },
  {
   "cell_type": "markdown",
   "metadata": {},
   "source": [
    "Define a function that takes a list and string, then returns all elements that start with the string, along with their indices in the list."
   ]
  },
  {
   "cell_type": "code",
   "execution_count": null,
   "metadata": {},
   "outputs": [],
   "source": []
  },
  {
   "cell_type": "markdown",
   "metadata": {},
   "source": [
    "## Dictionaries\n",
    "<a id='4.3'></a>"
   ]
  },
  {
   "cell_type": "markdown",
   "metadata": {},
   "source": [
    "Use a dictionary to count words in our sample text (use your text processing functions!). Then print the most common words, along with their frequencies!"
   ]
  },
  {
   "cell_type": "code",
   "execution_count": null,
   "metadata": {},
   "outputs": [],
   "source": []
  }
 ],
 "metadata": {
  "kernelspec": {
   "display_name": "Python 3",
   "language": "python",
   "name": "python3"
  },
  "language_info": {
   "codemirror_mode": {
    "name": "ipython",
    "version": 3
   },
   "file_extension": ".py",
   "mimetype": "text/x-python",
   "name": "python",
   "nbconvert_exporter": "python",
   "pygments_lexer": "ipython3",
   "version": "3.7.3"
  }
 },
 "nbformat": 4,
 "nbformat_minor": 1
}
